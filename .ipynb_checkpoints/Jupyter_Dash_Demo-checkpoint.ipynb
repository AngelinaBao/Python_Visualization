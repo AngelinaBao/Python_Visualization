{
 "cells": [
  {
   "cell_type": "code",
   "execution_count": null,
   "id": "2f44fbe1",
   "metadata": {},
   "outputs": [],
   "source": [
    "# from dash import Dash, dcc, html\n",
    "# from dash.dependencies import Input, Output\n",
    "# app = Dash(__name__)\n",
    "\n",
    "# # front end\n",
    "# app.layout = html.Div([\n",
    "#     html.H2(),\n",
    "#     dcc.Dropdown(),\n",
    "#     dcc.Graph()\n",
    "# ])\n",
    "\n",
    "# # back end\n",
    "# @app.callback(Output(), Input())\n",
    "# def interactive_chart(input):\n",
    "#     return output\n",
    "\n",
    "# app.run_server(debug=True)"
   ]
  },
  {
   "cell_type": "code",
   "execution_count": null,
   "id": "b9c6cc99",
   "metadata": {},
   "outputs": [],
   "source": [
    "# from dash import Dash, html\n",
    "\n",
    "# app = Dash(__name__)\n",
    "\n",
    "# app.layout = html.Div('Hello! How are you?')\n",
    "\n",
    "# if __name__ == '__main__':\n",
    "#     app.run_server()"
   ]
  },
  {
   "cell_type": "code",
   "execution_count": null,
   "id": "4d44481b",
   "metadata": {},
   "outputs": [],
   "source": [
    "# from dash import Dash, html\n",
    "# from jupyter_dash import JupyterDash\n",
    "\n",
    "# app = JupyterDash(__name__)\n",
    "\n",
    "# app.layout = html.Div('Hello!')\n",
    "\n",
    "# if __name__ == '__main__':\n",
    "#     app.run_server(mode='inline')"
   ]
  },
  {
   "cell_type": "code",
   "execution_count": null,
   "id": "e55792bb",
   "metadata": {},
   "outputs": [],
   "source": [
    "from dash import html, dcc, Dash\n",
    "from dash.dependencies import Input, Output\n",
    "from jupyter_dash import JupyterDash\n",
    "\n",
    "app = JupyterDash(__name__)\n",
    "\n",
    "app.layout = html.Div([\n",
    "    'Pick a Country',\n",
    "    dcc.Dropdown(\n",
    "        options = ['China', 'Japan', 'USA', 'Austrilia', 'French', 'India'],\n",
    "        value = '', \n",
    "        id = 'country-dropdown'\n",
    "    ),\n",
    "    html.H3(id = 'country-output')\n",
    "])\n",
    "\n",
    "@app.callback(\n",
    "    Output('country-output', 'children'),\n",
    "    Input('country-dropdown', 'value')\n",
    ")\n",
    "def coutnry_picker(country):\n",
    "    if not country:\n",
    "        raise PreventUpdate\n",
    "    return f\"I live in {country}\"\n",
    "\n",
    "if __name__ == '__main__':\n",
    "    app.run_server(mode='inline', width='40%')"
   ]
  },
  {
   "cell_type": "markdown",
   "id": "c9302327",
   "metadata": {},
   "source": [
    "### Interactive Visual Code"
   ]
  },
  {
   "cell_type": "code",
   "execution_count": null,
   "id": "de8cecd9",
   "metadata": {},
   "outputs": [],
   "source": [
    "import pandas as pd\n",
    "import seaborn as sns\n",
    "\n",
    "df = sns.load_dataset('anscombe')\n",
    "df.head()"
   ]
  },
  {
   "cell_type": "code",
   "execution_count": null,
   "id": "9b289c37",
   "metadata": {},
   "outputs": [],
   "source": [
    "# build a prototyple scatterplot\n",
    "\n",
    "df['dataset'].unique()\n",
    "\n",
    "df.query(\"dataset == 'III'\")\n",
    "\n",
    "import plotly.express as px\n",
    "\n",
    "px.scatter(\n",
    "    df.query(\"dataset=='IV'\"),\n",
    "    x='x',\n",
    "    y='y'\n",
    ")"
   ]
  },
  {
   "cell_type": "code",
   "execution_count": null,
   "id": "e2859012",
   "metadata": {},
   "outputs": [],
   "source": [
    "# then get your app to work\n",
    "\n",
    "from dash import dcc, html, Dash\n",
    "from jupyter_dash import JupyterDash\n",
    "from dash.dependencies import Output, Input\n",
    "from dash.exceptions import PreventUpdate\n",
    "import plotly.express as px\n",
    "import pandas as pd\n",
    "import seaborn as sns\n",
    "\n",
    "df = sns.load_dataset('anscombe')\n",
    "\n",
    "app = JupyterDash(__name__)\n",
    "\n",
    "app.layout = html.Div([\n",
    "    html.H3(\"Anscombe's quarter\"),\n",
    "    dcc.Dropdown(id='dropdown', options=list(df['dataset'].unique())),\n",
    "    dcc.Graph(id='visual')\n",
    "])\n",
    "\n",
    "@app.callback(\n",
    "    Output('visual', 'figure'),\n",
    "    Input('dropdown', 'value')\n",
    ")\n",
    "def anscombe_scatter(dataset):\n",
    "    figure = px.scatter(\n",
    "        df.query(f\"dataset == '{dataset}'\"),\n",
    "        x = 'x',\n",
    "        y = 'y')\n",
    "    return figure\n",
    "\n",
    "if __name__ == '__main__':\n",
    "    app.run_server(mode='inline', width='60%')"
   ]
  }
 ],
 "metadata": {
  "kernelspec": {
   "display_name": "Python 3 (ipykernel)",
   "language": "python",
   "name": "python3"
  },
  "language_info": {
   "codemirror_mode": {
    "name": "ipython",
    "version": 3
   },
   "file_extension": ".py",
   "mimetype": "text/x-python",
   "name": "python",
   "nbconvert_exporter": "python",
   "pygments_lexer": "ipython3",
   "version": "3.9.12"
  }
 },
 "nbformat": 4,
 "nbformat_minor": 5
}
