{
 "cells": [
  {
   "cell_type": "code",
   "execution_count": 1,
   "id": "95d2d876",
   "metadata": {},
   "outputs": [],
   "source": [
    "import os\n",
    "\n",
    "os.getcwd()\n",
    "\n",
    "os.chdir('C:/Users/1000257489/Documents/2023/Angelina/Study/Dashboards with Plotly & Dash/Download Resources/Course_Materials/Data')"
   ]
  },
  {
   "cell_type": "code",
   "execution_count": 2,
   "id": "9f6d7772",
   "metadata": {},
   "outputs": [
    {
     "data": {
      "text/html": [
       "<div>\n",
       "<style scoped>\n",
       "    .dataframe tbody tr th:only-of-type {\n",
       "        vertical-align: middle;\n",
       "    }\n",
       "\n",
       "    .dataframe tbody tr th {\n",
       "        vertical-align: top;\n",
       "    }\n",
       "\n",
       "    .dataframe thead th {\n",
       "        text-align: right;\n",
       "    }\n",
       "</style>\n",
       "<table border=\"1\" class=\"dataframe\">\n",
       "  <thead>\n",
       "    <tr style=\"text-align: right;\">\n",
       "      <th></th>\n",
       "      <th>PRIMARY_KEY</th>\n",
       "      <th>STATE</th>\n",
       "      <th>YEAR</th>\n",
       "      <th>ENROLL</th>\n",
       "      <th>TOTAL_REVENUE</th>\n",
       "      <th>FEDERAL_REVENUE</th>\n",
       "      <th>STATE_REVENUE</th>\n",
       "      <th>LOCAL_REVENUE</th>\n",
       "      <th>TOTAL_EXPENDITURE</th>\n",
       "      <th>INSTRUCTION_EXPENDITURE</th>\n",
       "      <th>...</th>\n",
       "      <th>GRADES_12_G</th>\n",
       "      <th>GRADES_1_8_G</th>\n",
       "      <th>GRADES_9_12_G</th>\n",
       "      <th>GRADES_ALL_G</th>\n",
       "      <th>AVG_MATH_4_SCORE</th>\n",
       "      <th>AVG_MATH_8_SCORE</th>\n",
       "      <th>AVG_READING_4_SCORE</th>\n",
       "      <th>AVG_READING_8_SCORE</th>\n",
       "      <th>expenditure_per_student</th>\n",
       "      <th>above_avg_math8</th>\n",
       "    </tr>\n",
       "  </thead>\n",
       "  <tbody>\n",
       "    <tr>\n",
       "      <th>1710</th>\n",
       "      <td>2019_VIRGINIA</td>\n",
       "      <td>VIRGINIA</td>\n",
       "      <td>2019</td>\n",
       "      <td>NaN</td>\n",
       "      <td>NaN</td>\n",
       "      <td>NaN</td>\n",
       "      <td>NaN</td>\n",
       "      <td>NaN</td>\n",
       "      <td>NaN</td>\n",
       "      <td>NaN</td>\n",
       "      <td>...</td>\n",
       "      <td>NaN</td>\n",
       "      <td>NaN</td>\n",
       "      <td>NaN</td>\n",
       "      <td>NaN</td>\n",
       "      <td>247.0</td>\n",
       "      <td>287.0</td>\n",
       "      <td>224.0</td>\n",
       "      <td>262.0</td>\n",
       "      <td>NaN</td>\n",
       "      <td>Above Avg</td>\n",
       "    </tr>\n",
       "    <tr>\n",
       "      <th>1711</th>\n",
       "      <td>2019_WASHINGTON</td>\n",
       "      <td>WASHINGTON</td>\n",
       "      <td>2019</td>\n",
       "      <td>NaN</td>\n",
       "      <td>NaN</td>\n",
       "      <td>NaN</td>\n",
       "      <td>NaN</td>\n",
       "      <td>NaN</td>\n",
       "      <td>NaN</td>\n",
       "      <td>NaN</td>\n",
       "      <td>...</td>\n",
       "      <td>NaN</td>\n",
       "      <td>NaN</td>\n",
       "      <td>NaN</td>\n",
       "      <td>NaN</td>\n",
       "      <td>240.0</td>\n",
       "      <td>286.0</td>\n",
       "      <td>220.0</td>\n",
       "      <td>266.0</td>\n",
       "      <td>NaN</td>\n",
       "      <td>Above Avg</td>\n",
       "    </tr>\n",
       "    <tr>\n",
       "      <th>1712</th>\n",
       "      <td>2019_WEST_VIRGINIA</td>\n",
       "      <td>WEST_VIRGINIA</td>\n",
       "      <td>2019</td>\n",
       "      <td>NaN</td>\n",
       "      <td>NaN</td>\n",
       "      <td>NaN</td>\n",
       "      <td>NaN</td>\n",
       "      <td>NaN</td>\n",
       "      <td>NaN</td>\n",
       "      <td>NaN</td>\n",
       "      <td>...</td>\n",
       "      <td>NaN</td>\n",
       "      <td>NaN</td>\n",
       "      <td>NaN</td>\n",
       "      <td>NaN</td>\n",
       "      <td>231.0</td>\n",
       "      <td>272.0</td>\n",
       "      <td>213.0</td>\n",
       "      <td>256.0</td>\n",
       "      <td>NaN</td>\n",
       "      <td>Below Avg</td>\n",
       "    </tr>\n",
       "    <tr>\n",
       "      <th>1713</th>\n",
       "      <td>2019_WISCONSIN</td>\n",
       "      <td>WISCONSIN</td>\n",
       "      <td>2019</td>\n",
       "      <td>NaN</td>\n",
       "      <td>NaN</td>\n",
       "      <td>NaN</td>\n",
       "      <td>NaN</td>\n",
       "      <td>NaN</td>\n",
       "      <td>NaN</td>\n",
       "      <td>NaN</td>\n",
       "      <td>...</td>\n",
       "      <td>NaN</td>\n",
       "      <td>NaN</td>\n",
       "      <td>NaN</td>\n",
       "      <td>NaN</td>\n",
       "      <td>242.0</td>\n",
       "      <td>289.0</td>\n",
       "      <td>220.0</td>\n",
       "      <td>267.0</td>\n",
       "      <td>NaN</td>\n",
       "      <td>Above Avg</td>\n",
       "    </tr>\n",
       "    <tr>\n",
       "      <th>1714</th>\n",
       "      <td>2019_WYOMING</td>\n",
       "      <td>WYOMING</td>\n",
       "      <td>2019</td>\n",
       "      <td>NaN</td>\n",
       "      <td>NaN</td>\n",
       "      <td>NaN</td>\n",
       "      <td>NaN</td>\n",
       "      <td>NaN</td>\n",
       "      <td>NaN</td>\n",
       "      <td>NaN</td>\n",
       "      <td>...</td>\n",
       "      <td>NaN</td>\n",
       "      <td>NaN</td>\n",
       "      <td>NaN</td>\n",
       "      <td>NaN</td>\n",
       "      <td>246.0</td>\n",
       "      <td>286.0</td>\n",
       "      <td>227.0</td>\n",
       "      <td>265.0</td>\n",
       "      <td>NaN</td>\n",
       "      <td>Above Avg</td>\n",
       "    </tr>\n",
       "  </tbody>\n",
       "</table>\n",
       "<p>5 rows × 27 columns</p>\n",
       "</div>"
      ],
      "text/plain": [
       "             PRIMARY_KEY          STATE  YEAR  ENROLL  TOTAL_REVENUE  \\\n",
       "1710       2019_VIRGINIA       VIRGINIA  2019     NaN            NaN   \n",
       "1711     2019_WASHINGTON     WASHINGTON  2019     NaN            NaN   \n",
       "1712  2019_WEST_VIRGINIA  WEST_VIRGINIA  2019     NaN            NaN   \n",
       "1713      2019_WISCONSIN      WISCONSIN  2019     NaN            NaN   \n",
       "1714        2019_WYOMING        WYOMING  2019     NaN            NaN   \n",
       "\n",
       "      FEDERAL_REVENUE  STATE_REVENUE  LOCAL_REVENUE  TOTAL_EXPENDITURE  \\\n",
       "1710              NaN            NaN            NaN                NaN   \n",
       "1711              NaN            NaN            NaN                NaN   \n",
       "1712              NaN            NaN            NaN                NaN   \n",
       "1713              NaN            NaN            NaN                NaN   \n",
       "1714              NaN            NaN            NaN                NaN   \n",
       "\n",
       "      INSTRUCTION_EXPENDITURE  ...  GRADES_12_G  GRADES_1_8_G  GRADES_9_12_G  \\\n",
       "1710                      NaN  ...          NaN           NaN            NaN   \n",
       "1711                      NaN  ...          NaN           NaN            NaN   \n",
       "1712                      NaN  ...          NaN           NaN            NaN   \n",
       "1713                      NaN  ...          NaN           NaN            NaN   \n",
       "1714                      NaN  ...          NaN           NaN            NaN   \n",
       "\n",
       "      GRADES_ALL_G  AVG_MATH_4_SCORE  AVG_MATH_8_SCORE  AVG_READING_4_SCORE  \\\n",
       "1710           NaN             247.0             287.0                224.0   \n",
       "1711           NaN             240.0             286.0                220.0   \n",
       "1712           NaN             231.0             272.0                213.0   \n",
       "1713           NaN             242.0             289.0                220.0   \n",
       "1714           NaN             246.0             286.0                227.0   \n",
       "\n",
       "      AVG_READING_8_SCORE  expenditure_per_student  above_avg_math8  \n",
       "1710                262.0                      NaN        Above Avg  \n",
       "1711                266.0                      NaN        Above Avg  \n",
       "1712                256.0                      NaN        Below Avg  \n",
       "1713                267.0                      NaN        Above Avg  \n",
       "1714                265.0                      NaN        Above Avg  \n",
       "\n",
       "[5 rows x 27 columns]"
      ]
     },
     "execution_count": 2,
     "metadata": {},
     "output_type": "execute_result"
    }
   ],
   "source": [
    "import pandas as pd\n",
    "import numpy as np\n",
    "\n",
    "import plotly.graph_objects as go\n",
    "import plotly.express as px\n",
    "\n",
    "from jupyter_dash import JupyterDash\n",
    "from dash import dcc, html\n",
    "\n",
    "from dash.dependencies import Output, Input\n",
    "from dash.exceptions import PreventUpdate\n",
    "\n",
    "education = pd.read_csv(\"states_all.csv\").assign(\n",
    "    expenditure_per_student = lambda x: x[\"TOTAL_EXPENDITURE\"] / x[\"GRADES_ALL_G\"],\n",
    "    above_avg_math8 = lambda x: np.where(x[\"AVG_MATH_8_SCORE\"] > 278.6,'Above Avg', 'Below Avg')\n",
    ")\n",
    "\n",
    "education.tail()"
   ]
  },
  {
   "cell_type": "markdown",
   "id": "6d616ba1",
   "metadata": {},
   "source": [
    "### Labels & Values"
   ]
  },
  {
   "cell_type": "code",
   "execution_count": 3,
   "id": "df658473",
   "metadata": {},
   "outputs": [
    {
     "name": "stdout",
     "output_type": "stream",
     "text": [
      "Dash is running on http://127.0.0.1:8055/\n",
      "\n"
     ]
    },
    {
     "data": {
      "text/html": [
       "\n",
       "        <iframe\n",
       "            width=\"100%\"\n",
       "            height=\"650\"\n",
       "            src=\"http://127.0.0.1:8055/\"\n",
       "            frameborder=\"0\"\n",
       "            allowfullscreen\n",
       "            \n",
       "        ></iframe>\n",
       "        "
      ],
      "text/plain": [
       "<IPython.lib.display.IFrame at 0x1b22847d2e0>"
      ]
     },
     "metadata": {},
     "output_type": "display_data"
    }
   ],
   "source": [
    "app = JupyterDash(__name__)\n",
    "\n",
    "app.layout = html.Div([\n",
    "    html.H2(id='header'),\n",
    "    dcc.Dropdown(\n",
    "        id = 'X Column Picker',\n",
    "        options=list(education.select_dtypes(include='number').columns),\n",
    "        value='TOTAL_EXPENDITURE',\n",
    "#         multi=True\n",
    "    ),\n",
    "    dcc.Graph(id='graph')\n",
    "]\n",
    ")\n",
    "\n",
    "@app.callback(\n",
    "    Output('header', 'children'),\n",
    "    Output('graph', 'figure'),\n",
    "    Input('X Column Picker', 'value')\n",
    ")\n",
    "\n",
    "def plot_rev_scatter(x):\n",
    "    if not x:\n",
    "        raise PreventUpdate\n",
    "        \n",
    "    fig = px.scatter(\n",
    "        education,\n",
    "        x=x,\n",
    "        y='AVG_MATH_8_SCORE',\n",
    "#         color='STATE',\n",
    "        trendline='ols'\n",
    "    ).update_layout(template='plotly_dark')\n",
    "    \n",
    "    header = f'Math Score vs. {x.title()}'\n",
    "    return header, fig\n",
    "\n",
    "if __name__ == '__main__':\n",
    "    app.run_server(mode='inline', debug=True, port=8055)"
   ]
  },
  {
   "cell_type": "markdown",
   "id": "0ef7b0ff",
   "metadata": {},
   "source": [
    "### Multi Select Dropdowns"
   ]
  },
  {
   "cell_type": "code",
   "execution_count": 4,
   "id": "8bcbb05b",
   "metadata": {},
   "outputs": [
    {
     "name": "stdout",
     "output_type": "stream",
     "text": [
      "Dash is running on http://127.0.0.1:8051/\n",
      "\n"
     ]
    },
    {
     "data": {
      "text/html": [
       "\n",
       "        <iframe\n",
       "            width=\"100%\"\n",
       "            height=\"650\"\n",
       "            src=\"http://127.0.0.1:8051/\"\n",
       "            frameborder=\"0\"\n",
       "            allowfullscreen\n",
       "            \n",
       "        ></iframe>\n",
       "        "
      ],
      "text/plain": [
       "<IPython.lib.display.IFrame at 0x1b22847d0a0>"
      ]
     },
     "metadata": {},
     "output_type": "display_data"
    }
   ],
   "source": [
    "app = JupyterDash(__name__)\n",
    "\n",
    "app.layout = html.Div([\n",
    "    dcc.Dropdown(\n",
    "        id='State Picker',\n",
    "        options=list(education.STATE.unique()),\n",
    "        value=['CALIFORNIA'],\n",
    "        multi=True\n",
    "    ),\n",
    "    dcc.Graph(id='Output Graph')\n",
    "]\n",
    ")\n",
    "\n",
    "@app.callback(\n",
    "    Output('Output Graph', 'figure'),\n",
    "    Input('State Picker', 'value')\n",
    ")\n",
    "\n",
    "def Plot_line(state):\n",
    "    if not state:\n",
    "        raise PreventUpdate\n",
    "        \n",
    "    fig = px.line(\n",
    "        education.query(\"STATE in @state & 1992 < YEAR < 2016\"),\n",
    "        x = 'YEAR',\n",
    "        y = 'TOTAL_EXPENDITURE',\n",
    "        color=\"STATE\",\n",
    "        title = f\"Total Expenditure Trend, by Selected State\"\n",
    "    )\n",
    "    return fig\n",
    "\n",
    "if __name__ == '__main__':\n",
    "    app.run_server(mode='inline', port=8051, debug=True)"
   ]
  },
  {
   "cell_type": "code",
   "execution_count": 10,
   "id": "ae50b26d",
   "metadata": {
    "collapsed": true
   },
   "outputs": [
    {
     "name": "stdout",
     "output_type": "stream",
     "text": [
      "Dash is running on http://127.0.0.1:8052/\n",
      "\n"
     ]
    },
    {
     "data": {
      "text/html": [
       "\n",
       "        <iframe\n",
       "            width=\"100%\"\n",
       "            height=\"650\"\n",
       "            src=\"http://127.0.0.1:8052/\"\n",
       "            frameborder=\"0\"\n",
       "            allowfullscreen\n",
       "            \n",
       "        ></iframe>\n",
       "        "
      ],
      "text/plain": [
       "<IPython.lib.display.IFrame at 0x1b22c6fc9d0>"
      ]
     },
     "metadata": {},
     "output_type": "display_data"
    },
    {
     "name": "stdout",
     "output_type": "stream",
     "text": [
      "\u001b[1;31m---------------------------------------------------------------------------\u001b[0m\n",
      "\u001b[1;31mIndexError\u001b[0m                                Traceback (most recent call last)\n",
      "\u001b[1;31mIndexError\u001b[0m: list index out of range\n",
      "\n"
     ]
    }
   ],
   "source": [
    "# Dynamic Title\n",
    "app = JupyterDash(__name__)\n",
    "\n",
    "app.layout = html.Div([\n",
    "    dcc.Dropdown(\n",
    "        id='State Picker',\n",
    "#         options=['CALIFORNIA', 'WASHINGTON'],\n",
    "        options=[{'label': state.title(), 'value': state} for state in education['STATE'].unique()],\n",
    "#         value=['CALIFORNIA', 'WASHINGTON'],\n",
    "        multi=True\n",
    "    ),\n",
    "    dcc.Graph(id='Output Graph')\n",
    "]\n",
    ")\n",
    "\n",
    "@app.callback(\n",
    "    Output('Output Graph', 'figure'),\n",
    "    Input('State Picker', 'value')\n",
    ")\n",
    "\n",
    "def Plot_line(state):\n",
    "    if not state:\n",
    "        raise PreventUpdate\n",
    "        \n",
    "    fig = px.line(\n",
    "        education.query(\"STATE in @state\"),\n",
    "        x = 'YEAR',\n",
    "        y = 'TOTAL_EXPENDITURE',\n",
    "        color=\"STATE\",\n",
    "        title = f\"Total Expenditure Trend for {state[0].title()} and {state[1].title()}\"\n",
    "    ).update_layout(title_x=0.5, title_y=0.9)\n",
    "    return fig\n",
    "\n",
    "if __name__ == '__main__':\n",
    "    app.run_server(mode='inline', port=8052, debug=True)"
   ]
  },
  {
   "cell_type": "markdown",
   "id": "0e91374e",
   "metadata": {},
   "source": [
    "### CheckList"
   ]
  },
  {
   "cell_type": "code",
   "execution_count": 7,
   "id": "2d57328e",
   "metadata": {},
   "outputs": [
    {
     "name": "stdout",
     "output_type": "stream",
     "text": [
      "Dash is running on http://127.0.0.1:2321/\n",
      "\n"
     ]
    },
    {
     "data": {
      "text/html": [
       "\n",
       "        <iframe\n",
       "            width=\"100%\"\n",
       "            height=\"650\"\n",
       "            src=\"http://127.0.0.1:2321/\"\n",
       "            frameborder=\"0\"\n",
       "            allowfullscreen\n",
       "            \n",
       "        ></iframe>\n",
       "        "
      ],
      "text/plain": [
       "<IPython.lib.display.IFrame at 0x1b22c7ea2e0>"
      ]
     },
     "metadata": {},
     "output_type": "display_data"
    }
   ],
   "source": [
    "app = JupyterDash(__name__)\n",
    "\n",
    "app.layout = html.Div([\n",
    "    dcc.Checklist(\n",
    "        id = 'scores',\n",
    "        options = [\n",
    "            \"AVG_MATH_4_SCORE\",\n",
    "            \"AVG_MATH_8_SCORE\",\n",
    "            \"AVG_READING_4_SCORE\",\n",
    "            \"AVG_READING_8_SCORE\"\n",
    "        ],\n",
    "        value = [\"AVG_MATH_4_SCORE\"]\n",
    "    ),\n",
    "    dcc.Graph(id = 'graph')\n",
    "]\n",
    ")\n",
    "\n",
    "@app.callback(\n",
    "    Output('graph', 'figure'), # 注意是Output(), Input(), NO \"=\"!!!\n",
    "    Input('scores', 'value')\n",
    ")\n",
    "\n",
    "def plot_hist(scores):\n",
    "    if not scores:\n",
    "        raise PreventUpdate \n",
    "    fig = px.histogram(\n",
    "        education,\n",
    "        x = scores,\n",
    "        barmode='overlay',\n",
    "        title='Score Distribution'\n",
    "    ).update_traces(opacity=0.7).update_layout(title_x=0.5, title_y=0.9)    \n",
    "    return fig\n",
    "    \n",
    "if __name__ == '__main__':\n",
    "    app.run_server(mode='inline', debug=True, port=2321)"
   ]
  },
  {
   "cell_type": "code",
   "execution_count": 8,
   "id": "9431c5be",
   "metadata": {
    "collapsed": true
   },
   "outputs": [
    {
     "name": "stdout",
     "output_type": "stream",
     "text": [
      "Dash is running on http://127.0.0.1:1111/\n",
      "\n"
     ]
    },
    {
     "data": {
      "text/html": [
       "\n",
       "        <iframe\n",
       "            width=\"100%\"\n",
       "            height=\"650\"\n",
       "            src=\"http://127.0.0.1:1111/\"\n",
       "            frameborder=\"0\"\n",
       "            allowfullscreen\n",
       "            \n",
       "        ></iframe>\n",
       "        "
      ],
      "text/plain": [
       "<IPython.lib.display.IFrame at 0x1b22c897880>"
      ]
     },
     "metadata": {},
     "output_type": "display_data"
    },
    {
     "name": "stdout",
     "output_type": "stream",
     "text": [
      "\u001b[1;31m---------------------------------------------------------------------------\u001b[0m\n",
      "\u001b[1;31mIndexError\u001b[0m                                Traceback (most recent call last)\n",
      "\u001b[1;31mIndexError\u001b[0m: list index out of range\n",
      "\n"
     ]
    }
   ],
   "source": [
    "app = JupyterDash(__name__)\n",
    "\n",
    "app.layout = html.Div([\n",
    "    dcc.Checklist(\n",
    "        id = 'input_state',\n",
    "#         options = [\"CALIFORNIA\", \"TEXAS\", \"FLORIDA\", \"OREGON\"],\n",
    "        options = [{'value': state, 'label': state.title()} for state in education.STATE.unique()],\n",
    "        value = ['CALIFORNIA']\n",
    "    ),\n",
    "    dcc.Graph(id = 'graph')\n",
    "]\n",
    ")\n",
    "\n",
    "@app.callback(\n",
    "    Output('graph', 'figure'),\n",
    "    Input('input_state', 'value')\n",
    ")\n",
    "\n",
    "def plot_line(state):\n",
    "    if not state:\n",
    "        raise PreventUpdate\n",
    "    fig = px.line(\n",
    "        education.query(\"STATE in @state & 1992 < YEAR < 2016\")\n",
    "        .groupby(['YEAR', 'STATE'])\n",
    "        .sum()\n",
    "        .reset_index(),\n",
    "        x = 'YEAR',\n",
    "        y = 'TOTAL_EXPENDITURE',\n",
    "        color = 'STATE',\n",
    "        title = 'Total Expenditure Trend per State'\n",
    "    )   \n",
    "    return fig\n",
    "    \n",
    "if __name__ == '__main__':\n",
    "    app.run_server(mode = 'inline', debug = True, port = 1111)"
   ]
  },
  {
   "cell_type": "markdown",
   "id": "30fc6555",
   "metadata": {},
   "source": [
    "### RadioItems"
   ]
  },
  {
   "cell_type": "code",
   "execution_count": 19,
   "id": "1844487a",
   "metadata": {},
   "outputs": [
    {
     "name": "stdout",
     "output_type": "stream",
     "text": [
      "Dash is running on http://127.0.0.1:1212/\n",
      "\n"
     ]
    },
    {
     "data": {
      "text/html": [
       "\n",
       "        <iframe\n",
       "            width=\"100%\"\n",
       "            height=\"650\"\n",
       "            src=\"http://127.0.0.1:1212/\"\n",
       "            frameborder=\"0\"\n",
       "            allowfullscreen\n",
       "            \n",
       "        ></iframe>\n",
       "        "
      ],
      "text/plain": [
       "<IPython.lib.display.IFrame at 0x1b23201c610>"
      ]
     },
     "metadata": {},
     "output_type": "display_data"
    }
   ],
   "source": [
    "app = JupyterDash(__name__)\n",
    "\n",
    "app.layout = html.Div([\n",
    "    dcc.RadioItems(\n",
    "        id = 'OLS Toggle',\n",
    "        options = ['Trendline On', 'Trendline Off'],\n",
    "        value = 'Trendline Off'\n",
    "    ),\n",
    "    dcc.Graph(id = 'graph')\n",
    "]\n",
    ")\n",
    "\n",
    "@app.callback(\n",
    "    Output('graph', 'figure'),\n",
    "    Input('OLS Toggle', 'value')\n",
    ")\n",
    "\n",
    "def plot_scatter(ols):\n",
    "    fig = px.scatter(\n",
    "        education,\n",
    "        x = 'expenditure_per_student',\n",
    "        y = 'AVG_MATH_8_SCORE',\n",
    "        trendline=None if ols=='Trendline Off' else 'ols',\n",
    "#         color='STATE',\n",
    "        hover_name='STATE',\n",
    "        title = 'The Relationship Between Expense and Test Scores'\n",
    "    )\n",
    "    \n",
    "    return fig\n",
    "\n",
    "if __name__ == '__main__':\n",
    "    app.run_server(mode='inline', debug=True, port=1212)"
   ]
  },
  {
   "cell_type": "code",
   "execution_count": 39,
   "id": "0813880f",
   "metadata": {},
   "outputs": [
    {
     "name": "stdout",
     "output_type": "stream",
     "text": [
      "Dash is running on http://127.0.0.1:9087/\n",
      "\n"
     ]
    },
    {
     "data": {
      "text/html": [
       "\n",
       "        <iframe\n",
       "            width=\"100%\"\n",
       "            height=\"650\"\n",
       "            src=\"http://127.0.0.1:9087/\"\n",
       "            frameborder=\"0\"\n",
       "            allowfullscreen\n",
       "            \n",
       "        ></iframe>\n",
       "        "
      ],
      "text/plain": [
       "<IPython.lib.display.IFrame at 0x1b23559ae50>"
      ]
     },
     "metadata": {},
     "output_type": "display_data"
    }
   ],
   "source": [
    "app = JupyterDash(__name__)\n",
    "\n",
    "app.layout = html.Div([\n",
    "    dcc.RadioItems(\n",
    "        id = 'statistics',\n",
    "        options = ['sum', 'mean', 'median'],\n",
    "        value='mean'\n",
    "    ),\n",
    "    dcc.Graph(id = 'graph')\n",
    "]\n",
    ")\n",
    "\n",
    "@app.callback(\n",
    "    Output('graph', 'figure'),\n",
    "    Input('statistics', 'value')\n",
    ")\n",
    "\n",
    "def plot_bar(metric):\n",
    "    fig = px.bar(\n",
    "        education.query(\"STATE in ['OHIO', 'ALABAMA', 'WASHINGTON', 'COLORADO'] and 1992 < YEAR < 2016\")\n",
    "        .groupby(['STATE'], as_index=False)\n",
    "        .agg({'TOTAL_EXPENDITURE': metric}),\n",
    "        x = 'STATE',\n",
    "        y = 'TOTAL_EXPENDITURE',\n",
    "#         color = 'STATE',\n",
    "#         barmode='relative'\n",
    "    ).update_xaxes(type='category', dtick=2)\n",
    "    return fig\n",
    "\n",
    "if __name__ == '__main__':\n",
    "    app.run_server(mode='inline', port=9087, debug=True)"
   ]
  },
  {
   "cell_type": "markdown",
   "id": "34e864af",
   "metadata": {},
   "source": [
    "### Sliders"
   ]
  },
  {
   "cell_type": "code",
   "execution_count": 52,
   "id": "6462e4e4",
   "metadata": {},
   "outputs": [
    {
     "name": "stdout",
     "output_type": "stream",
     "text": [
      "Dash is running on http://127.0.0.1:2023/\n",
      "\n"
     ]
    },
    {
     "data": {
      "text/html": [
       "\n",
       "        <iframe\n",
       "            width=\"100%\"\n",
       "            height=\"650\"\n",
       "            src=\"http://127.0.0.1:2023/\"\n",
       "            frameborder=\"0\"\n",
       "            allowfullscreen\n",
       "            \n",
       "        ></iframe>\n",
       "        "
      ],
      "text/plain": [
       "<IPython.lib.display.IFrame at 0x1b239570f70>"
      ]
     },
     "metadata": {},
     "output_type": "display_data"
    }
   ],
   "source": [
    "app = JupyterDash(__name__)\n",
    "\n",
    "app.layout = html.Div([\n",
    "    dcc.Slider(id = 'spend', min=0, max=30, step=5, value=15),\n",
    "    dcc.Graph(id='graph')\n",
    "]\n",
    ")\n",
    "\n",
    "@app.callback(\n",
    "    Output('graph', 'figure'),\n",
    "    Input('spend', 'value')\n",
    ")\n",
    "\n",
    "def plot_bar(spending):\n",
    "    fig = px.bar(\n",
    "        education.query(\"expenditure_per_student > @spending\").groupby('YEAR', as_index=False).count(),\n",
    "        x = 'YEAR',\n",
    "        y = 'expenditure_per_student',\n",
    "        hover_name='STATE',\n",
    "        title = f\"States that spending over ${spending}K per student\"\n",
    "    )\n",
    "    fig.update_xaxes(range=[2006, 2017], dtick=3)\n",
    "    fig.update_yaxes(title='COUNT', range=[0, 55])\n",
    "    \n",
    "    return fig\n",
    "\n",
    "if __name__ == \"__main__\":\n",
    "    app.run_server(mode='inline', debug=True, port=2023)"
   ]
  },
  {
   "cell_type": "code",
   "execution_count": 66,
   "id": "f52f2d1e",
   "metadata": {},
   "outputs": [
    {
     "name": "stdout",
     "output_type": "stream",
     "text": [
      "Dash is running on http://127.0.0.1:2022/\n",
      "\n"
     ]
    },
    {
     "data": {
      "text/html": [
       "\n",
       "        <iframe\n",
       "            width=\"100%\"\n",
       "            height=\"650\"\n",
       "            src=\"http://127.0.0.1:2022/\"\n",
       "            frameborder=\"0\"\n",
       "            allowfullscreen\n",
       "            \n",
       "        ></iframe>\n",
       "        "
      ],
      "text/plain": [
       "<IPython.lib.display.IFrame at 0x1b23b8b8d30>"
      ]
     },
     "metadata": {},
     "output_type": "display_data"
    }
   ],
   "source": [
    "app = JupyterDash(__name__)\n",
    "\n",
    "app.layout = html.Div([\n",
    "    dcc.RangeSlider(id = 'spend', min=0, max=30, step=5, value=[10, 15]),\n",
    "    dcc.Graph(id='graph')\n",
    "]\n",
    ")\n",
    "\n",
    "@app.callback(\n",
    "    Output('graph', 'figure'),\n",
    "    Input('spend', 'value')\n",
    ")\n",
    "\n",
    "def plot_bar(spending):\n",
    "    fig = px.bar(\n",
    "        education.query(\"@spending[0] <= expenditure_per_student <= @spending[1]\").groupby('YEAR', as_index=False).count(),\n",
    "        x = 'YEAR',\n",
    "        y = 'expenditure_per_student',\n",
    "        hover_name='STATE',\n",
    "        title = f\"States Qty that spending between ${spending[0]}K-{spending[1]}K per student\"\n",
    "    )\n",
    "    fig.update_xaxes(range=[1992, 2017], dtick=3)\n",
    "    fig.update_yaxes(title='COUNT', range=[0, 55])\n",
    "    fig.update_traces(width=0.5)\n",
    "    \n",
    "    return fig\n",
    "\n",
    "if __name__ == \"__main__\":\n",
    "    app.run_server(mode='inline', debug=True, port=2022)"
   ]
  },
  {
   "cell_type": "code",
   "execution_count": 76,
   "id": "483dc611",
   "metadata": {},
   "outputs": [
    {
     "name": "stdout",
     "output_type": "stream",
     "text": [
      "Dash is running on http://127.0.0.1:5434/\n",
      "\n"
     ]
    },
    {
     "data": {
      "text/html": [
       "\n",
       "        <iframe\n",
       "            width=\"100%\"\n",
       "            height=\"650\"\n",
       "            src=\"http://127.0.0.1:5434/\"\n",
       "            frameborder=\"0\"\n",
       "            allowfullscreen\n",
       "            \n",
       "        ></iframe>\n",
       "        "
      ],
      "text/plain": [
       "<IPython.lib.display.IFrame at 0x1b239492730>"
      ]
     },
     "metadata": {},
     "output_type": "display_data"
    }
   ],
   "source": [
    "app = JupyterDash(__name__)\n",
    "\n",
    "app.layout = html.Div([\n",
    "    dcc.RangeSlider(id = 'score_range',\n",
    "                    min = education.query(\"YEAR==2013\")['AVG_MATH_8_SCORE'].min(),\n",
    "                    max = education.query(\"YEAR==2013\")['AVG_MATH_8_SCORE'].max(),\n",
    "                    step = 5,\n",
    "                    value = [275, 280]),\n",
    "    dcc.Graph(id = 'graph')\n",
    "])\n",
    "\n",
    "@app.callback(\n",
    "    Output('graph', 'figure'),\n",
    "    Input('score_range', 'value')\n",
    ")\n",
    "\n",
    "def plot_scatter(score):\n",
    "    df = education.query(\"YEAR == 2013\").assign(score_cutoff = \n",
    "                                                lambda x: np.where(x['AVG_MATH_8_SCORE'].between(score[0], score[1]), \n",
    "                                                         'In Range', 'Out of Range')\n",
    "                                               )\n",
    "    \n",
    "    fig = px.scatter(\n",
    "        df,\n",
    "        x = 'AVG_MATH_8_SCORE',\n",
    "        y = 'expenditure_per_student',\n",
    "        color = 'score_cutoff',\n",
    "        hover_name = 'STATE',\n",
    "        title = 'Score Vs. Expenditure/student'\n",
    "    )\n",
    "    return fig\n",
    "\n",
    "if __name__ == \"__main__\":\n",
    "    app.run_server(mode = 'inline', debug = True, port = 5434)"
   ]
  },
  {
   "cell_type": "markdown",
   "id": "40a87516",
   "metadata": {},
   "source": [
    "### Data Pickers"
   ]
  },
  {
   "cell_type": "code",
   "execution_count": 86,
   "id": "4ea289a9",
   "metadata": {},
   "outputs": [
    {
     "data": {
      "text/html": [
       "<div>\n",
       "<style scoped>\n",
       "    .dataframe tbody tr th:only-of-type {\n",
       "        vertical-align: middle;\n",
       "    }\n",
       "\n",
       "    .dataframe tbody tr th {\n",
       "        vertical-align: top;\n",
       "    }\n",
       "\n",
       "    .dataframe thead th {\n",
       "        text-align: right;\n",
       "    }\n",
       "</style>\n",
       "<table border=\"1\" class=\"dataframe\">\n",
       "  <thead>\n",
       "    <tr style=\"text-align: right;\">\n",
       "      <th></th>\n",
       "      <th>DATE</th>\n",
       "      <th>BOROUGH</th>\n",
       "      <th>COLLISIONS</th>\n",
       "    </tr>\n",
       "  </thead>\n",
       "  <tbody>\n",
       "    <tr>\n",
       "      <th>0</th>\n",
       "      <td>2021-01-01</td>\n",
       "      <td>BRONX</td>\n",
       "      <td>28</td>\n",
       "    </tr>\n",
       "    <tr>\n",
       "      <th>1</th>\n",
       "      <td>2021-01-01</td>\n",
       "      <td>BROOKLYN</td>\n",
       "      <td>72</td>\n",
       "    </tr>\n",
       "    <tr>\n",
       "      <th>2</th>\n",
       "      <td>2021-01-01</td>\n",
       "      <td>MANHATTAN</td>\n",
       "      <td>23</td>\n",
       "    </tr>\n",
       "    <tr>\n",
       "      <th>3</th>\n",
       "      <td>2021-01-01</td>\n",
       "      <td>QUEENS</td>\n",
       "      <td>44</td>\n",
       "    </tr>\n",
       "    <tr>\n",
       "      <th>4</th>\n",
       "      <td>2021-01-01</td>\n",
       "      <td>STATEN ISLAND</td>\n",
       "      <td>8</td>\n",
       "    </tr>\n",
       "  </tbody>\n",
       "</table>\n",
       "</div>"
      ],
      "text/plain": [
       "        DATE        BOROUGH  COLLISIONS\n",
       "0 2021-01-01          BRONX          28\n",
       "1 2021-01-01       BROOKLYN          72\n",
       "2 2021-01-01      MANHATTAN          23\n",
       "3 2021-01-01         QUEENS          44\n",
       "4 2021-01-01  STATEN ISLAND           8"
      ]
     },
     "execution_count": 86,
     "metadata": {},
     "output_type": "execute_result"
    }
   ],
   "source": [
    "collisions = pd.read_csv(r'C:\\Users\\1000257489\\Documents\\2023\\Angelina\\Study\\Dashboards with Plotly & Dash\\Download Resources\\Course_Materials\\Data\\NYC_Collisions.csv')\n",
    "collisions = (\n",
    "    collisions\n",
    "    .astype({\"ACCIDENT_DATE\": \"datetime64\"})\n",
    "    .loc[:,[\"ACCIDENT_DATE\", \"BOROUGH\", \"COLLISION_ID\"]]\n",
    "    .groupby([\"ACCIDENT_DATE\", \"BOROUGH\"], as_index=False)\n",
    "    .count()\n",
    "    .rename(columns={\n",
    "        \"COLLISION_ID\":\"COLLISIONS\", \n",
    "        \"ACCIDENT_DATE\":\"DATE\"})  \n",
    ")\n",
    "\n",
    "collisions.head()"
   ]
  },
  {
   "cell_type": "code",
   "execution_count": 99,
   "id": "4c5a651d",
   "metadata": {},
   "outputs": [
    {
     "name": "stdout",
     "output_type": "stream",
     "text": [
      "Dash is running on http://127.0.0.1:9031/\n",
      "\n"
     ]
    },
    {
     "data": {
      "text/html": [
       "\n",
       "        <iframe\n",
       "            width=\"100%\"\n",
       "            height=\"650\"\n",
       "            src=\"http://127.0.0.1:9031/\"\n",
       "            frameborder=\"0\"\n",
       "            allowfullscreen\n",
       "            \n",
       "        ></iframe>\n",
       "        "
      ],
      "text/plain": [
       "<IPython.lib.display.IFrame at 0x1b23ceb9910>"
      ]
     },
     "metadata": {},
     "output_type": "display_data"
    }
   ],
   "source": [
    "from datetime import datetime\n",
    "from datetime import date\n",
    "\n",
    "app = JupyterDash(__name__)\n",
    "\n",
    "app.layout = html.Div([\n",
    "    dcc.DatePickerSingle(\n",
    "        id = 'date picker',\n",
    "        min_date_allowed = collisions['DATE'].min(),\n",
    "        max_date_allowed = collisions['DATE'].max(),\n",
    "        initial_visible_month=collisions[\"DATE\"].min(),\n",
    "        date = date(2021, 1, 1) \n",
    "    ),\n",
    "    dcc.Graph(id = 'graph')\n",
    "])\n",
    "\n",
    "@app.callback(\n",
    "    Output('graph', 'figure'),\n",
    "    Input('date picker', 'date')\n",
    ")\n",
    "\n",
    "def plot_bar(date):\n",
    "    fig = px.bar(\n",
    "        collisions.query(\"DATE == @date\")\n",
    "        .groupby('BOROUGH', as_index=False)['COLLISIONS'].sum(),\n",
    "        x = 'COLLISIONS',\n",
    "        y = 'BOROUGH',\n",
    "        title = f\"Traffic Accident in NYC on {date[:10]}\"\n",
    "    )\n",
    "    return fig\n",
    "\n",
    "if __name__ == \"__main__\":\n",
    "    app.run_server(mode='inline', debug=True, port = 9031)"
   ]
  },
  {
   "cell_type": "markdown",
   "id": "d0973b6e",
   "metadata": {},
   "source": [
    "#### DatePickerRange"
   ]
  },
  {
   "cell_type": "code",
   "execution_count": 105,
   "id": "26b9f128",
   "metadata": {},
   "outputs": [
    {
     "name": "stdout",
     "output_type": "stream",
     "text": [
      "Dash is running on http://127.0.0.1:9032/\n",
      "\n"
     ]
    },
    {
     "data": {
      "text/html": [
       "\n",
       "        <iframe\n",
       "            width=\"100%\"\n",
       "            height=\"650\"\n",
       "            src=\"http://127.0.0.1:9032/\"\n",
       "            frameborder=\"0\"\n",
       "            allowfullscreen\n",
       "            \n",
       "        ></iframe>\n",
       "        "
      ],
      "text/plain": [
       "<IPython.lib.display.IFrame at 0x1b23cb8a190>"
      ]
     },
     "metadata": {},
     "output_type": "display_data"
    }
   ],
   "source": [
    "from datetime import datetime\n",
    "from datetime import date\n",
    "\n",
    "app = JupyterDash(__name__)\n",
    "\n",
    "app.layout = html.Div([\n",
    "    dcc.DatePickerRange(\n",
    "        id = 'date picker',\n",
    "        min_date_allowed = collisions['DATE'].min(),\n",
    "        max_date_allowed = collisions['DATE'].max(),\n",
    "        initial_visible_month=collisions[\"DATE\"].min(),\n",
    "        start_date = collisions['DATE'].min(),\n",
    "        end_date = date(2022, 1, 1) \n",
    "    ),\n",
    "    dcc.Graph(id = 'graph')\n",
    "])\n",
    "\n",
    "@app.callback(\n",
    "    Output('graph', 'figure'),\n",
    "    [Input('date picker', 'start_date'), Input('date picker', 'end_date')]\n",
    ")\n",
    "\n",
    "def plot_bar(start_date, end_date):\n",
    "    fig = px.bar(\n",
    "        collisions.query(\"DATE.between(@start_date, @end_date)\")\n",
    "        .groupby('BOROUGH', as_index=False)['COLLISIONS'].sum(),\n",
    "        x = 'COLLISIONS',\n",
    "        y = 'BOROUGH',\n",
    "        title = f\"Traffic Accident in NYC between {start_date[:10]} and {end_date[:10]}\"\n",
    "    )\n",
    "    return fig\n",
    "\n",
    "if __name__ == \"__main__\":\n",
    "    app.run_server(mode='inline', debug=True, port = 9032)"
   ]
  },
  {
   "cell_type": "markdown",
   "id": "c2ee7689",
   "metadata": {},
   "source": [
    "### Multiple Input Callbacks"
   ]
  },
  {
   "cell_type": "code",
   "execution_count": 106,
   "id": "d289be68",
   "metadata": {},
   "outputs": [
    {
     "data": {
      "text/html": [
       "<div>\n",
       "<style scoped>\n",
       "    .dataframe tbody tr th:only-of-type {\n",
       "        vertical-align: middle;\n",
       "    }\n",
       "\n",
       "    .dataframe tbody tr th {\n",
       "        vertical-align: top;\n",
       "    }\n",
       "\n",
       "    .dataframe thead th {\n",
       "        text-align: right;\n",
       "    }\n",
       "</style>\n",
       "<table border=\"1\" class=\"dataframe\">\n",
       "  <thead>\n",
       "    <tr style=\"text-align: right;\">\n",
       "      <th></th>\n",
       "      <th>PRIMARY_KEY</th>\n",
       "      <th>STATE</th>\n",
       "      <th>YEAR</th>\n",
       "      <th>ENROLL</th>\n",
       "      <th>TOTAL_REVENUE</th>\n",
       "      <th>FEDERAL_REVENUE</th>\n",
       "      <th>STATE_REVENUE</th>\n",
       "      <th>LOCAL_REVENUE</th>\n",
       "      <th>TOTAL_EXPENDITURE</th>\n",
       "      <th>INSTRUCTION_EXPENDITURE</th>\n",
       "      <th>...</th>\n",
       "      <th>GRADES_12_G</th>\n",
       "      <th>GRADES_1_8_G</th>\n",
       "      <th>GRADES_9_12_G</th>\n",
       "      <th>GRADES_ALL_G</th>\n",
       "      <th>AVG_MATH_4_SCORE</th>\n",
       "      <th>AVG_MATH_8_SCORE</th>\n",
       "      <th>AVG_READING_4_SCORE</th>\n",
       "      <th>AVG_READING_8_SCORE</th>\n",
       "      <th>expenditure_per_student</th>\n",
       "      <th>above_avg_math8</th>\n",
       "    </tr>\n",
       "  </thead>\n",
       "  <tbody>\n",
       "    <tr>\n",
       "      <th>0</th>\n",
       "      <td>1992_ALABAMA</td>\n",
       "      <td>ALABAMA</td>\n",
       "      <td>1992</td>\n",
       "      <td>NaN</td>\n",
       "      <td>2678885.0</td>\n",
       "      <td>304177.0</td>\n",
       "      <td>1659028.0</td>\n",
       "      <td>715680.0</td>\n",
       "      <td>2653798.0</td>\n",
       "      <td>1481703.0</td>\n",
       "      <td>...</td>\n",
       "      <td>41167.0</td>\n",
       "      <td>NaN</td>\n",
       "      <td>NaN</td>\n",
       "      <td>731634.0</td>\n",
       "      <td>208.0</td>\n",
       "      <td>252.0</td>\n",
       "      <td>207.0</td>\n",
       "      <td>NaN</td>\n",
       "      <td>3.627221</td>\n",
       "      <td>Below Avg</td>\n",
       "    </tr>\n",
       "    <tr>\n",
       "      <th>1</th>\n",
       "      <td>1992_ALASKA</td>\n",
       "      <td>ALASKA</td>\n",
       "      <td>1992</td>\n",
       "      <td>NaN</td>\n",
       "      <td>1049591.0</td>\n",
       "      <td>106780.0</td>\n",
       "      <td>720711.0</td>\n",
       "      <td>222100.0</td>\n",
       "      <td>972488.0</td>\n",
       "      <td>498362.0</td>\n",
       "      <td>...</td>\n",
       "      <td>6714.0</td>\n",
       "      <td>NaN</td>\n",
       "      <td>NaN</td>\n",
       "      <td>122487.0</td>\n",
       "      <td>NaN</td>\n",
       "      <td>NaN</td>\n",
       "      <td>NaN</td>\n",
       "      <td>NaN</td>\n",
       "      <td>7.939520</td>\n",
       "      <td>Below Avg</td>\n",
       "    </tr>\n",
       "    <tr>\n",
       "      <th>2</th>\n",
       "      <td>1992_ARIZONA</td>\n",
       "      <td>ARIZONA</td>\n",
       "      <td>1992</td>\n",
       "      <td>NaN</td>\n",
       "      <td>3258079.0</td>\n",
       "      <td>297888.0</td>\n",
       "      <td>1369815.0</td>\n",
       "      <td>1590376.0</td>\n",
       "      <td>3401580.0</td>\n",
       "      <td>1435908.0</td>\n",
       "      <td>...</td>\n",
       "      <td>37410.0</td>\n",
       "      <td>NaN</td>\n",
       "      <td>NaN</td>\n",
       "      <td>673477.0</td>\n",
       "      <td>215.0</td>\n",
       "      <td>265.0</td>\n",
       "      <td>209.0</td>\n",
       "      <td>NaN</td>\n",
       "      <td>5.050774</td>\n",
       "      <td>Below Avg</td>\n",
       "    </tr>\n",
       "    <tr>\n",
       "      <th>3</th>\n",
       "      <td>1992_ARKANSAS</td>\n",
       "      <td>ARKANSAS</td>\n",
       "      <td>1992</td>\n",
       "      <td>NaN</td>\n",
       "      <td>1711959.0</td>\n",
       "      <td>178571.0</td>\n",
       "      <td>958785.0</td>\n",
       "      <td>574603.0</td>\n",
       "      <td>1743022.0</td>\n",
       "      <td>964323.0</td>\n",
       "      <td>...</td>\n",
       "      <td>27651.0</td>\n",
       "      <td>NaN</td>\n",
       "      <td>NaN</td>\n",
       "      <td>441490.0</td>\n",
       "      <td>210.0</td>\n",
       "      <td>256.0</td>\n",
       "      <td>211.0</td>\n",
       "      <td>NaN</td>\n",
       "      <td>3.948044</td>\n",
       "      <td>Below Avg</td>\n",
       "    </tr>\n",
       "    <tr>\n",
       "      <th>4</th>\n",
       "      <td>1992_CALIFORNIA</td>\n",
       "      <td>CALIFORNIA</td>\n",
       "      <td>1992</td>\n",
       "      <td>NaN</td>\n",
       "      <td>26260025.0</td>\n",
       "      <td>2072470.0</td>\n",
       "      <td>16546514.0</td>\n",
       "      <td>7641041.0</td>\n",
       "      <td>27138832.0</td>\n",
       "      <td>14358922.0</td>\n",
       "      <td>...</td>\n",
       "      <td>270675.0</td>\n",
       "      <td>NaN</td>\n",
       "      <td>NaN</td>\n",
       "      <td>5254844.0</td>\n",
       "      <td>208.0</td>\n",
       "      <td>261.0</td>\n",
       "      <td>202.0</td>\n",
       "      <td>NaN</td>\n",
       "      <td>5.164536</td>\n",
       "      <td>Below Avg</td>\n",
       "    </tr>\n",
       "  </tbody>\n",
       "</table>\n",
       "<p>5 rows × 27 columns</p>\n",
       "</div>"
      ],
      "text/plain": [
       "       PRIMARY_KEY       STATE  YEAR  ENROLL  TOTAL_REVENUE  FEDERAL_REVENUE  \\\n",
       "0     1992_ALABAMA     ALABAMA  1992     NaN      2678885.0         304177.0   \n",
       "1      1992_ALASKA      ALASKA  1992     NaN      1049591.0         106780.0   \n",
       "2     1992_ARIZONA     ARIZONA  1992     NaN      3258079.0         297888.0   \n",
       "3    1992_ARKANSAS    ARKANSAS  1992     NaN      1711959.0         178571.0   \n",
       "4  1992_CALIFORNIA  CALIFORNIA  1992     NaN     26260025.0        2072470.0   \n",
       "\n",
       "   STATE_REVENUE  LOCAL_REVENUE  TOTAL_EXPENDITURE  INSTRUCTION_EXPENDITURE  \\\n",
       "0      1659028.0       715680.0          2653798.0                1481703.0   \n",
       "1       720711.0       222100.0           972488.0                 498362.0   \n",
       "2      1369815.0      1590376.0          3401580.0                1435908.0   \n",
       "3       958785.0       574603.0          1743022.0                 964323.0   \n",
       "4     16546514.0      7641041.0         27138832.0               14358922.0   \n",
       "\n",
       "   ...  GRADES_12_G  GRADES_1_8_G  GRADES_9_12_G  GRADES_ALL_G  \\\n",
       "0  ...      41167.0           NaN            NaN      731634.0   \n",
       "1  ...       6714.0           NaN            NaN      122487.0   \n",
       "2  ...      37410.0           NaN            NaN      673477.0   \n",
       "3  ...      27651.0           NaN            NaN      441490.0   \n",
       "4  ...     270675.0           NaN            NaN     5254844.0   \n",
       "\n",
       "   AVG_MATH_4_SCORE  AVG_MATH_8_SCORE  AVG_READING_4_SCORE  \\\n",
       "0             208.0             252.0                207.0   \n",
       "1               NaN               NaN                  NaN   \n",
       "2             215.0             265.0                209.0   \n",
       "3             210.0             256.0                211.0   \n",
       "4             208.0             261.0                202.0   \n",
       "\n",
       "   AVG_READING_8_SCORE  expenditure_per_student  above_avg_math8  \n",
       "0                  NaN                 3.627221        Below Avg  \n",
       "1                  NaN                 7.939520        Below Avg  \n",
       "2                  NaN                 5.050774        Below Avg  \n",
       "3                  NaN                 3.948044        Below Avg  \n",
       "4                  NaN                 5.164536        Below Avg  \n",
       "\n",
       "[5 rows x 27 columns]"
      ]
     },
     "execution_count": 106,
     "metadata": {},
     "output_type": "execute_result"
    }
   ],
   "source": [
    "education.head()"
   ]
  },
  {
   "cell_type": "code",
   "execution_count": 107,
   "id": "94dc19a7",
   "metadata": {
    "collapsed": true
   },
   "outputs": [
    {
     "name": "stdout",
     "output_type": "stream",
     "text": [
      "<class 'pandas.core.frame.DataFrame'>\n",
      "RangeIndex: 1715 entries, 0 to 1714\n",
      "Data columns (total 27 columns):\n",
      " #   Column                        Non-Null Count  Dtype  \n",
      "---  ------                        --------------  -----  \n",
      " 0   PRIMARY_KEY                   1715 non-null   object \n",
      " 1   STATE                         1715 non-null   object \n",
      " 2   YEAR                          1715 non-null   int64  \n",
      " 3   ENROLL                        1224 non-null   float64\n",
      " 4   TOTAL_REVENUE                 1275 non-null   float64\n",
      " 5   FEDERAL_REVENUE               1275 non-null   float64\n",
      " 6   STATE_REVENUE                 1275 non-null   float64\n",
      " 7   LOCAL_REVENUE                 1275 non-null   float64\n",
      " 8   TOTAL_EXPENDITURE             1275 non-null   float64\n",
      " 9   INSTRUCTION_EXPENDITURE       1275 non-null   float64\n",
      " 10  SUPPORT_SERVICES_EXPENDITURE  1275 non-null   float64\n",
      " 11  OTHER_EXPENDITURE             1224 non-null   float64\n",
      " 12  CAPITAL_OUTLAY_EXPENDITURE    1275 non-null   float64\n",
      " 13  GRADES_PK_G                   1542 non-null   float64\n",
      " 14  GRADES_KG_G                   1632 non-null   float64\n",
      " 15  GRADES_4_G                    1632 non-null   float64\n",
      " 16  GRADES_8_G                    1632 non-null   float64\n",
      " 17  GRADES_12_G                   1632 non-null   float64\n",
      " 18  GRADES_1_8_G                  1020 non-null   float64\n",
      " 19  GRADES_9_12_G                 1071 non-null   float64\n",
      " 20  GRADES_ALL_G                  1632 non-null   float64\n",
      " 21  AVG_MATH_4_SCORE              565 non-null    float64\n",
      " 22  AVG_MATH_8_SCORE              602 non-null    float64\n",
      " 23  AVG_READING_4_SCORE           650 non-null    float64\n",
      " 24  AVG_READING_8_SCORE           562 non-null    float64\n",
      " 25  expenditure_per_student       1275 non-null   float64\n",
      " 26  above_avg_math8               1715 non-null   object \n",
      "dtypes: float64(23), int64(1), object(3)\n",
      "memory usage: 361.9+ KB\n"
     ]
    }
   ],
   "source": [
    "education.info()"
   ]
  },
  {
   "cell_type": "code",
   "execution_count": 125,
   "id": "ca1c2748",
   "metadata": {
    "scrolled": false
   },
   "outputs": [
    {
     "name": "stdout",
     "output_type": "stream",
     "text": [
      "Dash is running on http://127.0.0.1:2343/\n",
      "\n"
     ]
    },
    {
     "data": {
      "text/html": [
       "\n",
       "        <iframe\n",
       "            width=\"100%\"\n",
       "            height=\"650\"\n",
       "            src=\"http://127.0.0.1:2343/\"\n",
       "            frameborder=\"0\"\n",
       "            allowfullscreen\n",
       "            \n",
       "        ></iframe>\n",
       "        "
      ],
      "text/plain": [
       "<IPython.lib.display.IFrame at 0x1b23c4fbf40>"
      ]
     },
     "metadata": {},
     "output_type": "display_data"
    }
   ],
   "source": [
    "app = JupyterDash(__name__)\n",
    "\n",
    "app.layout = html.Div([\n",
    "    dcc.Dropdown(id = 'x input',\n",
    "                 options = [{'value': col, 'label': col.upper()} for col in education.select_dtypes(include=['float64']).columns.tolist()],\n",
    "                 value = 'expenditure_per_student'\n",
    "                ),\n",
    "    dcc.Dropdown(id = 'y input',\n",
    "                 options = [{'value': col, 'label': col.upper()} for col in education.select_dtypes(include=['float64']).columns.tolist()],\n",
    "                 value = 'AVG_MATH_8_SCORE'\n",
    "                ),\n",
    "    dcc.RadioItems(id = 'trendline',\n",
    "                  options = ['Trendline On', 'Trendline Off'],\n",
    "                  value = 'Trendline Off'\n",
    "                 ),\n",
    "    dcc.Graph(id = 'graph'),\n",
    "    dcc.Graph(id = 'graph1'),\n",
    "    dcc.Graph(id = 'graph2')\n",
    "])\n",
    "\n",
    "@app.callback(\n",
    "    Output('graph', 'figure'),\n",
    "    Output('graph1', 'figure'),\n",
    "    Output('graph2', 'figure'),\n",
    "    Input('x input', 'value'),\n",
    "    Input('y input', 'value'),\n",
    "    Input('trendline', 'value')\n",
    ")\n",
    "\n",
    "def plot_scatter(x, y, ols):\n",
    "    if not x or not y:\n",
    "        raise PreventUpdate\n",
    "    \n",
    "    fig = px.scatter(\n",
    "        education,\n",
    "        x = x,\n",
    "        y = y,\n",
    "        trendline = None if ols=='Trendline Off' else 'ols',\n",
    "        title = f\"{y.upper()} vs. {x.upper()}\"\n",
    "    ).update_layout(title_x=0.5, title_y = 0.9) \n",
    "    \n",
    "    fig1 = px.histogram(\n",
    "        education,\n",
    "        x = x,\n",
    "        opacity=.6,\n",
    "        range_y = [0, 85],\n",
    "        marginal = 'box',\n",
    "        title = f\"Distribution of {x}\"\n",
    "    ).update_layout(title_x=0.5, title_y = 0.9)  \n",
    "    \n",
    "    fig2 = px.histogram(\n",
    "        education,\n",
    "        x = y,\n",
    "        opacity=.6,\n",
    "        marginal = 'box',\n",
    "        title = f\"Distribution of {y}\"\n",
    "    ).update_layout(title_x=0.5, title_y = 0.9) \n",
    "    return fig, fig1, fig2\n",
    "\n",
    "if __name__ == \"__main__\":\n",
    "    app.run_server(mode = 'inline', port = 2343, debug = True)"
   ]
  }
 ],
 "metadata": {
  "kernelspec": {
   "display_name": "Python 3 (ipykernel)",
   "language": "python",
   "name": "python3"
  },
  "language_info": {
   "codemirror_mode": {
    "name": "ipython",
    "version": 3
   },
   "file_extension": ".py",
   "mimetype": "text/x-python",
   "name": "python",
   "nbconvert_exporter": "python",
   "pygments_lexer": "ipython3",
   "version": "3.9.12"
  }
 },
 "nbformat": 4,
 "nbformat_minor": 5
}
