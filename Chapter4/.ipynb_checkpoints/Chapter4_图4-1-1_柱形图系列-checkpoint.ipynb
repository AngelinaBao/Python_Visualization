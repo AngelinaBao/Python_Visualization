{
 "cells": [
  {
   "cell_type": "code",
   "execution_count": 1,
   "id": "0644bcf8",
   "metadata": {},
   "outputs": [],
   "source": [
    "import pandas as pd\n",
    "import numpy as np\n",
    "from plotnine import *"
   ]
  },
  {
   "cell_type": "markdown",
   "id": "2e10200f",
   "metadata": {},
   "source": [
    "#### a. 单数据系列柱形图"
   ]
  },
  {
   "cell_type": "code",
   "execution_count": 2,
   "id": "1af2c339",
   "metadata": {},
   "outputs": [
    {
     "data": {
      "text/html": [
       "<div>\n",
       "<style scoped>\n",
       "    .dataframe tbody tr th:only-of-type {\n",
       "        vertical-align: middle;\n",
       "    }\n",
       "\n",
       "    .dataframe tbody tr th {\n",
       "        vertical-align: top;\n",
       "    }\n",
       "\n",
       "    .dataframe thead th {\n",
       "        text-align: right;\n",
       "    }\n",
       "</style>\n",
       "<table border=\"1\" class=\"dataframe\">\n",
       "  <thead>\n",
       "    <tr style=\"text-align: right;\">\n",
       "      <th></th>\n",
       "      <th>Cut</th>\n",
       "      <th>Price</th>\n",
       "    </tr>\n",
       "  </thead>\n",
       "  <tbody>\n",
       "    <tr>\n",
       "      <th>0</th>\n",
       "      <td>Fair</td>\n",
       "      <td>4300</td>\n",
       "    </tr>\n",
       "    <tr>\n",
       "      <th>1</th>\n",
       "      <td>Good</td>\n",
       "      <td>3800</td>\n",
       "    </tr>\n",
       "    <tr>\n",
       "      <th>2</th>\n",
       "      <td>Very Good</td>\n",
       "      <td>3950</td>\n",
       "    </tr>\n",
       "    <tr>\n",
       "      <th>3</th>\n",
       "      <td>Premium</td>\n",
       "      <td>4700</td>\n",
       "    </tr>\n",
       "    <tr>\n",
       "      <th>4</th>\n",
       "      <td>Ideal</td>\n",
       "      <td>3500</td>\n",
       "    </tr>\n",
       "  </tbody>\n",
       "</table>\n",
       "</div>"
      ],
      "text/plain": [
       "         Cut  Price\n",
       "0       Fair   4300\n",
       "1       Good   3800\n",
       "2  Very Good   3950\n",
       "3    Premium   4700\n",
       "4      Ideal   3500"
      ]
     },
     "execution_count": 2,
     "metadata": {},
     "output_type": "execute_result"
    }
   ],
   "source": [
    "data = pd.DataFrame({'Cut':[\"Fair\",\"Good\",\"Very Good\",\"Premium\",\"Ideal\"],\n",
    "                     'Price':[4300,3800,3950,4700,3500]})\n",
    "data"
   ]
  },
  {
   "cell_type": "code",
   "execution_count": 14,
   "id": "07d63571",
   "metadata": {},
   "outputs": [
    {
     "data": {
      "image/png": "[encoded data removed]",
      "text/plain": [
       "<Figure size 325x376.177 with 1 Axes>"
      ]
     },
     "metadata": {},
     "output_type": "display_data"
    },
    {
     "name": "stdout",
     "output_type": "stream",
     "text": [
      "\n"
     ]
    }
   ],
   "source": [
    "p1 = (ggplot(data, aes(x='Cut', y='Price'))\n",
    "      + geom_bar(stat='identity', width=0.8, color='black', size=0.25, fill='#FC4E07', alpha=1) #stat='identity'不做任何位置调整，该情况在多分类柱形图中不可行，各序列会互相遮盖，但是在多序列散点图、折线图中可行，不会存在遮盖问题\n",
    "      + ylim(0, 6000)\n",
    "      + theme(axis_title=element_text(color='black', size=18, face='plain'),\n",
    "              axis_text_x=element_text(color='black', size=16, face='plain', rotation=30),\n",
    "              axis_text_y=element_text(color='black', size=16, face='plain'),\n",
    "              aspect_ratio=1.15,\n",
    "              dpi=50,\n",
    "              figure_size=(6.5, 6.5))\n",
    "     )\n",
    "print(p1)"
   ]
  },
  {
   "cell_type": "markdown",
   "id": "e87ebd57",
   "metadata": {},
   "source": [
    "#### b. 多数据系列柱形图"
   ]
  }
 ],
 "metadata": {
  "kernelspec": {
   "display_name": "Python 3 (ipykernel)",
   "language": "python",
   "name": "python3"
  },
  "language_info": {
   "codemirror_mode": {
    "name": "ipython",
    "version": 3
   },
   "file_extension": ".py",
   "mimetype": "text/x-python",
   "name": "python",
   "nbconvert_exporter": "python",
   "pygments_lexer": "ipython3",
   "version": "3.9.12"
  }
 },
 "nbformat": 4,
 "nbformat_minor": 5
}
