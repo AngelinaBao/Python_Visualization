{
 "cells": [
  {
   "cell_type": "code",
   "execution_count": 1,
   "id": "0644bcf8",
   "metadata": {},
   "outputs": [],
   "source": [
    "import pandas as pd\n",
    "import numpy as np\n",
    "from plotnine import *"
   ]
  },
  {
   "cell_type": "markdown",
   "id": "2e10200f",
   "metadata": {},
   "source": [
    "#### a. 单数据系列柱形图"
   ]
  },
  {
   "cell_type": "code",
   "execution_count": 7,
   "id": "1af2c339",
   "metadata": {},
   "outputs": [
    {
     "data": {
      "text/html": [
       "<div>\n",
       "<style scoped>\n",
       "    .dataframe tbody tr th:only-of-type {\n",
       "        vertical-align: middle;\n",
       "    }\n",
       "\n",
       "    .dataframe tbody tr th {\n",
       "        vertical-align: top;\n",
       "    }\n",
       "\n",
       "    .dataframe thead th {\n",
       "        text-align: right;\n",
       "    }\n",
       "</style>\n",
       "<table border=\"1\" class=\"dataframe\">\n",
       "  <thead>\n",
       "    <tr style=\"text-align: right;\">\n",
       "      <th></th>\n",
       "      <th>Cut</th>\n",
       "      <th>Price</th>\n",
       "    </tr>\n",
       "  </thead>\n",
       "  <tbody>\n",
       "    <tr>\n",
       "      <th>3</th>\n",
       "      <td>Premium</td>\n",
       "      <td>4700</td>\n",
       "    </tr>\n",
       "    <tr>\n",
       "      <th>0</th>\n",
       "      <td>Fair</td>\n",
       "      <td>4300</td>\n",
       "    </tr>\n",
       "    <tr>\n",
       "      <th>2</th>\n",
       "      <td>Very Good</td>\n",
       "      <td>3950</td>\n",
       "    </tr>\n",
       "    <tr>\n",
       "      <th>1</th>\n",
       "      <td>Good</td>\n",
       "      <td>3800</td>\n",
       "    </tr>\n",
       "    <tr>\n",
       "      <th>4</th>\n",
       "      <td>Ideal</td>\n",
       "      <td>3500</td>\n",
       "    </tr>\n",
       "  </tbody>\n",
       "</table>\n",
       "</div>"
      ],
      "text/plain": [
       "         Cut  Price\n",
       "3    Premium   4700\n",
       "0       Fair   4300\n",
       "2  Very Good   3950\n",
       "1       Good   3800\n",
       "4      Ideal   3500"
      ]
     },
     "execution_count": 7,
     "metadata": {},
     "output_type": "execute_result"
    }
   ],
   "source": [
    "data = pd.DataFrame({'Cut':[\"Fair\",\"Good\",\"Very Good\",\"Premium\",\"Ideal\"],\n",
    "                     'Price':[4300,3800,3950,4700,3500]})\n",
    "data.sort_values(by='Price', ascending=False, inplace=True)\n",
    "data"
   ]
  },
  {
   "cell_type": "code",
   "execution_count": 9,
   "id": "1e244740",
   "metadata": {},
   "outputs": [
    {
     "data": {
      "text/html": [
       "<div>\n",
       "<style scoped>\n",
       "    .dataframe tbody tr th:only-of-type {\n",
       "        vertical-align: middle;\n",
       "    }\n",
       "\n",
       "    .dataframe tbody tr th {\n",
       "        vertical-align: top;\n",
       "    }\n",
       "\n",
       "    .dataframe thead th {\n",
       "        text-align: right;\n",
       "    }\n",
       "</style>\n",
       "<table border=\"1\" class=\"dataframe\">\n",
       "  <thead>\n",
       "    <tr style=\"text-align: right;\">\n",
       "      <th></th>\n",
       "      <th>Cut</th>\n",
       "      <th>Price</th>\n",
       "    </tr>\n",
       "  </thead>\n",
       "  <tbody>\n",
       "    <tr>\n",
       "      <th>3</th>\n",
       "      <td>Premium</td>\n",
       "      <td>4700</td>\n",
       "    </tr>\n",
       "    <tr>\n",
       "      <th>0</th>\n",
       "      <td>Fair</td>\n",
       "      <td>4300</td>\n",
       "    </tr>\n",
       "    <tr>\n",
       "      <th>2</th>\n",
       "      <td>Very Good</td>\n",
       "      <td>3950</td>\n",
       "    </tr>\n",
       "    <tr>\n",
       "      <th>1</th>\n",
       "      <td>Good</td>\n",
       "      <td>3800</td>\n",
       "    </tr>\n",
       "    <tr>\n",
       "      <th>4</th>\n",
       "      <td>Ideal</td>\n",
       "      <td>3500</td>\n",
       "    </tr>\n",
       "  </tbody>\n",
       "</table>\n",
       "</div>"
      ],
      "text/plain": [
       "         Cut  Price\n",
       "3    Premium   4700\n",
       "0       Fair   4300\n",
       "2  Very Good   3950\n",
       "1       Good   3800\n",
       "4      Ideal   3500"
      ]
     },
     "execution_count": 9,
     "metadata": {},
     "output_type": "execute_result"
    }
   ],
   "source": [
    "data['Cut']=pd.Categorical(data['Cut'],ordered=True, categories=data['Cut'])\n",
    "data"
   ]
  },
  {
   "cell_type": "code",
   "execution_count": 10,
   "id": "07d63571",
   "metadata": {},
   "outputs": [
    {
     "data": {
      "image/png": "[encoded data removed]",
      "text/plain": [
       "<Figure size 325x376.177 with 1 Axes>"
      ]
     },
     "metadata": {},
     "output_type": "display_data"
    },
    {
     "name": "stdout",
     "output_type": "stream",
     "text": [
      "\n"
     ]
    }
   ],
   "source": [
    "p1 = (ggplot(data, aes(x='Cut', y='Price'))\n",
    "      + geom_bar(stat='identity', width=0.8, color='black', size=0.25, fill='#FC4E07', alpha=1) #stat='identity'不做任何位置调整，该情况在多分类柱形图中不可行，各序列会互相遮盖，但是在多序列散点图、折线图中可行，不会存在遮盖问题\n",
    "      + ylim(0, 6000)\n",
    "      + theme(axis_title=element_text(color='black', size=18, face='plain'),\n",
    "              axis_text_x=element_text(color='black', size=16, face='plain', rotation=30),\n",
    "              axis_text_y=element_text(color='black', size=16, face='plain'),\n",
    "              aspect_ratio=1.15,\n",
    "              dpi=50,\n",
    "              figure_size=(6.5, 6.5))\n",
    "     )\n",
    "print(p1)"
   ]
  },
  {
   "cell_type": "markdown",
   "id": "e87ebd57",
   "metadata": {},
   "source": [
    "#### b. 多数据系列柱形图"
   ]
  },
  {
   "cell_type": "code",
   "execution_count": 11,
   "id": "c2d448ec",
   "metadata": {},
   "outputs": [
    {
     "data": {
      "text/plain": [
       "((3, 3),\n",
       "            Catergory  1996  1997\n",
       " 0  Temporary\\nStream  7.67  5.84\n",
       " 1  Permanent\\nStream  4.02  6.45\n",
       " 2               Lake  3.95  6.76)"
      ]
     },
     "execution_count": 11,
     "metadata": {},
     "output_type": "execute_result"
    }
   ],
   "source": [
    "df1 =pd.read_csv('MultiColumn_Data.csv')\n",
    "df1.shape, df1.head()"
   ]
  },
  {
   "cell_type": "code",
   "execution_count": 12,
   "id": "a37580ac",
   "metadata": {},
   "outputs": [],
   "source": [
    "df1.sort_values(by='1996', ascending=False, inplace=True)"
   ]
  },
  {
   "cell_type": "code",
   "execution_count": 13,
   "id": "a2895948",
   "metadata": {},
   "outputs": [
    {
     "data": {
      "text/html": [
       "<div>\n",
       "<style scoped>\n",
       "    .dataframe tbody tr th:only-of-type {\n",
       "        vertical-align: middle;\n",
       "    }\n",
       "\n",
       "    .dataframe tbody tr th {\n",
       "        vertical-align: top;\n",
       "    }\n",
       "\n",
       "    .dataframe thead th {\n",
       "        text-align: right;\n",
       "    }\n",
       "</style>\n",
       "<table border=\"1\" class=\"dataframe\">\n",
       "  <thead>\n",
       "    <tr style=\"text-align: right;\">\n",
       "      <th></th>\n",
       "      <th>Catergory</th>\n",
       "      <th>variable</th>\n",
       "      <th>value</th>\n",
       "    </tr>\n",
       "  </thead>\n",
       "  <tbody>\n",
       "    <tr>\n",
       "      <th>0</th>\n",
       "      <td>Temporary\\nStream</td>\n",
       "      <td>1996</td>\n",
       "      <td>7.67</td>\n",
       "    </tr>\n",
       "    <tr>\n",
       "      <th>1</th>\n",
       "      <td>Permanent\\nStream</td>\n",
       "      <td>1996</td>\n",
       "      <td>4.02</td>\n",
       "    </tr>\n",
       "    <tr>\n",
       "      <th>2</th>\n",
       "      <td>Lake</td>\n",
       "      <td>1996</td>\n",
       "      <td>3.95</td>\n",
       "    </tr>\n",
       "    <tr>\n",
       "      <th>3</th>\n",
       "      <td>Temporary\\nStream</td>\n",
       "      <td>1997</td>\n",
       "      <td>5.84</td>\n",
       "    </tr>\n",
       "    <tr>\n",
       "      <th>4</th>\n",
       "      <td>Permanent\\nStream</td>\n",
       "      <td>1997</td>\n",
       "      <td>6.45</td>\n",
       "    </tr>\n",
       "    <tr>\n",
       "      <th>5</th>\n",
       "      <td>Lake</td>\n",
       "      <td>1997</td>\n",
       "      <td>6.76</td>\n",
       "    </tr>\n",
       "  </tbody>\n",
       "</table>\n",
       "</div>"
      ],
      "text/plain": [
       "           Catergory variable  value\n",
       "0  Temporary\\nStream     1996   7.67\n",
       "1  Permanent\\nStream     1996   4.02\n",
       "2               Lake     1996   3.95\n",
       "3  Temporary\\nStream     1997   5.84\n",
       "4  Permanent\\nStream     1997   6.45\n",
       "5               Lake     1997   6.76"
      ]
     },
     "execution_count": 13,
     "metadata": {},
     "output_type": "execute_result"
    }
   ],
   "source": [
    "df1 = pd.melt(df1, id_vars='Catergory')\n",
    "df1"
   ]
  },
  {
   "cell_type": "code",
   "execution_count": 15,
   "id": "611f0290",
   "metadata": {},
   "outputs": [
    {
     "data": {
      "text/html": [
       "<div>\n",
       "<style scoped>\n",
       "    .dataframe tbody tr th:only-of-type {\n",
       "        vertical-align: middle;\n",
       "    }\n",
       "\n",
       "    .dataframe tbody tr th {\n",
       "        vertical-align: top;\n",
       "    }\n",
       "\n",
       "    .dataframe thead th {\n",
       "        text-align: right;\n",
       "    }\n",
       "</style>\n",
       "<table border=\"1\" class=\"dataframe\">\n",
       "  <thead>\n",
       "    <tr style=\"text-align: right;\">\n",
       "      <th></th>\n",
       "      <th>Catergory</th>\n",
       "      <th>variable</th>\n",
       "      <th>value</th>\n",
       "    </tr>\n",
       "  </thead>\n",
       "  <tbody>\n",
       "    <tr>\n",
       "      <th>0</th>\n",
       "      <td>Temporary\\nStream</td>\n",
       "      <td>1996</td>\n",
       "      <td>7.67</td>\n",
       "    </tr>\n",
       "    <tr>\n",
       "      <th>1</th>\n",
       "      <td>Permanent\\nStream</td>\n",
       "      <td>1996</td>\n",
       "      <td>4.02</td>\n",
       "    </tr>\n",
       "    <tr>\n",
       "      <th>2</th>\n",
       "      <td>Lake</td>\n",
       "      <td>1996</td>\n",
       "      <td>3.95</td>\n",
       "    </tr>\n",
       "    <tr>\n",
       "      <th>3</th>\n",
       "      <td>Temporary\\nStream</td>\n",
       "      <td>1997</td>\n",
       "      <td>5.84</td>\n",
       "    </tr>\n",
       "    <tr>\n",
       "      <th>4</th>\n",
       "      <td>Permanent\\nStream</td>\n",
       "      <td>1997</td>\n",
       "      <td>6.45</td>\n",
       "    </tr>\n",
       "    <tr>\n",
       "      <th>5</th>\n",
       "      <td>Lake</td>\n",
       "      <td>1997</td>\n",
       "      <td>6.76</td>\n",
       "    </tr>\n",
       "  </tbody>\n",
       "</table>\n",
       "</div>"
      ],
      "text/plain": [
       "           Catergory variable  value\n",
       "0  Temporary\\nStream     1996   7.67\n",
       "1  Permanent\\nStream     1996   4.02\n",
       "2               Lake     1996   3.95\n",
       "3  Temporary\\nStream     1997   5.84\n",
       "4  Permanent\\nStream     1997   6.45\n",
       "5               Lake     1997   6.76"
      ]
     },
     "execution_count": 15,
     "metadata": {},
     "output_type": "execute_result"
    }
   ],
   "source": [
    "df1['Catergory'] = pd.Categorical(df1['Catergory'], ordered=True, categories=df1['Catergory'].unique())\n",
    "df1"
   ]
  },
  {
   "cell_type": "code",
   "execution_count": 16,
   "id": "895da450",
   "metadata": {},
   "outputs": [
    {
     "data": {
      "image/png": "[encoded data removed]",
      "text/plain": [
       "<Figure size 325x376.177 with 1 Axes>"
      ]
     },
     "metadata": {},
     "output_type": "display_data"
    },
    {
     "name": "stdout",
     "output_type": "stream",
     "text": [
      "\n"
     ]
    }
   ],
   "source": [
    "p2 = (ggplot(df1, aes(x='Catergory', y='value', fill='variable'))\n",
    "      + geom_bar(stat='identity', color='black', position='dodge', width=0.7, size=0.25)\n",
    "      + scale_fill_manual(values=[\"#1c9099\", \"#e34a33\"])\n",
    "      + ylim(0, 10)\n",
    "      + theme(axis_title=element_text(color='black', size=18, face='plain'),\n",
    "             axis_text=element_text(color='black', size=16, face='plain'),\n",
    "             legend_title=element_text(color='black', size=18, face='plain'),\n",
    "             legend_text=element_text(color='black', size=16, face='plain'),\n",
    "             aspect_ratio=1.15,\n",
    "             dpi=50,\n",
    "             figure_size=(6.5, 6.5),\n",
    "             legend_position=(0.75, 0.8),\n",
    "             legend_direction='vertical',\n",
    "             legend_background=element_blank())\n",
    "     )\n",
    "print(p2)"
   ]
  },
  {
   "cell_type": "markdown",
   "id": "522311e6",
   "metadata": {},
   "source": [
    "#### c.堆积柱形图"
   ]
  },
  {
   "cell_type": "code",
   "execution_count": 18,
   "id": "cb8f0429",
   "metadata": {},
   "outputs": [],
   "source": [
    "from pandas.api.types import CategoricalDtype\n",
    "\n",
    "df=pd.read_csv('StackedColumn_Data.csv')\n",
    "\n",
    "Sum_df=df.iloc[:,1:].apply(lambda x: x.sum(), axis=0).sort_values(ascending=False)\n",
    "\n",
    "meanRow_df=df.iloc[:,1:].apply(lambda x: x.mean(), axis=1)\n",
    "\n",
    "Sing_df=df['Clarity'][meanRow_df.sort_values(ascending=True).index]\n",
    "\n",
    "mydata=pd.melt(df,id_vars='Clarity')\n",
    "\n",
    "cat_dtype1 = CategoricalDtype(categories= Sum_df.index,ordered=True)\n",
    "cat_dtype2 = CategoricalDtype(categories= Sing_df,ordered=True)\n",
    "mydata['variable']=mydata['variable'].astype(cat_dtype1)\n",
    "mydata['Clarity']=mydata['Clarity'].astype(cat_dtype2)"
   ]
  },
  {
   "cell_type": "code",
   "execution_count": 19,
   "id": "56aaa2a0",
   "metadata": {},
   "outputs": [
    {
     "data": {
      "image/png": "[encoded data removed]",
      "text/plain": [
       "<Figure size 325x376.177 with 1 Axes>"
      ]
     },
     "metadata": {},
     "output_type": "display_data"
    },
    {
     "name": "stdout",
     "output_type": "stream",
     "text": [
      "\n"
     ]
    }
   ],
   "source": [
    "p3 = (ggplot(mydata,aes(x='variable',y='value',fill='Clarity'))\n",
    "      +geom_bar(stat=\"identity\", color=\"black\", position='stack',width=0.7,size=0.25)\n",
    "      +scale_fill_brewer(palette=\"YlOrRd\")\n",
    "      +ylim(0, 15000)\n",
    "      +theme(\n",
    "          legend_title=element_text(size=18,face=\"plain\",color=\"black\"),\n",
    "          legend_text=element_text(size=16,face=\"plain\",color=\"black\"),\n",
    "          axis_title=element_text(size=18,face=\"plain\",color=\"black\"),\n",
    "          axis_text = element_text(size=16,face=\"plain\",color=\"black\"),\n",
    "          legend_background=element_blank(),\n",
    "          legend_position=(0.8,0.75),\n",
    "          legend_direction='vertical',\n",
    "          aspect_ratio =1.15,\n",
    "          figure_size = (6.5, 6.5),\n",
    "          dpi = 50\n",
    "      )\n",
    ")\n",
    "print(p3)"
   ]
  },
  {
   "cell_type": "markdown",
   "id": "9a25ab0b",
   "metadata": {},
   "source": [
    "#### d. 百分比堆积柱状图"
   ]
  },
  {
   "cell_type": "code",
   "execution_count": 42,
   "id": "4f2aa872",
   "metadata": {},
   "outputs": [
    {
     "name": "stdout",
     "output_type": "stream",
     "text": [
      "     Clarity variable     value\n",
      "0       Fair       I1  0.020134\n",
      "1       Good       I1  0.161074\n",
      "2  Very_Good       I1  0.174497\n",
      "3    Premium       I1  0.375839\n",
      "4      Ideal       I1  0.268456\n",
      "5       Fair      SI2  0.042553\n",
      "6       Good      SI2  0.117021\n",
      "7  Very_Good      SI2  0.244681\n",
      "8    Premium      SI2  0.308511\n",
      "9      Ideal      SI2  0.287234\n"
     ]
    }
   ],
   "source": [
    "df=pd.read_csv('StackedColumn_Data.csv')\n",
    "\n",
    "SumCol_df=df.iloc[:,1:].apply(lambda x: x.sum(), axis=0)\n",
    "\n",
    "df.iloc[:,1:]=df.iloc[:,1:].apply(lambda x: x/SumCol_df, axis=1)\n",
    "\n",
    "meanRow_df=df.iloc[:,1:].apply(lambda x: x.mean(), axis=1)\n",
    "\n",
    "Per_df=df.iloc[meanRow_df.idxmax(),1:].sort_values(ascending=False)\n",
    "\n",
    "Sing_df=df['Clarity'][meanRow_df.sort_values(ascending=True).index]\n",
    "\n",
    "mydata=pd.melt(df,id_vars='Clarity')\n",
    "\n",
    "print(mydata.head(10))\n",
    "cat_dtype1 = CategoricalDtype(categories= Sing_df,ordered=True)\n",
    "cat_dtype2 = CategoricalDtype(categories= Per_df.index,ordered=True)\n",
    "mydata['variable']=mydata['variable'].astype(cat_dtype2)\n",
    "mydata['Clarity']=mydata['Clarity'].astype(cat_dtype1)"
   ]
  },
  {
   "cell_type": "code",
   "execution_count": 45,
   "id": "f9f2cff3",
   "metadata": {},
   "outputs": [
    {
     "data": {
      "image/png": "[encoded data removed]",
      "text/plain": [
       "<Figure size 325x376.177 with 1 Axes>"
      ]
     },
     "metadata": {},
     "output_type": "display_data"
    },
    {
     "name": "stdout",
     "output_type": "stream",
     "text": [
      "\n"
     ]
    }
   ],
   "source": [
    "p4 = (ggplot(mydata,aes(x='variable',y='value',fill='Clarity'))\n",
    "      + geom_bar(stat=\"identity\", color=\"black\", position='fill',width=0.7,size=0.25)\n",
    "      + scale_fill_brewer(palette=\"GnBu\")\n",
    "      + theme_matplotlib()\n",
    "      + theme(\n",
    "          legend_title=element_text(size=18,face=\"plain\",color=\"black\"),\n",
    "          legend_text=element_text(size=16,face=\"plain\",color=\"black\"),\n",
    "          axis_title=element_text(size=18,face=\"plain\",color=\"black\"),\n",
    "          axis_text = element_text(size=16,face=\"plain\",color=\"black\"),\n",
    "          legend_background=element_blank(),\n",
    "          legend_position='right',\n",
    "          legend_direction='vertical',\n",
    "          aspect_ratio =1.15,\n",
    "          figure_size = (6.5, 6.5),\n",
    "          dpi = 50\n",
    "      )\n",
    ")\n",
    "print(p4)"
   ]
  }
 ],
 "metadata": {
  "kernelspec": {
   "display_name": "Python 3 (ipykernel)",
   "language": "python",
   "name": "python3"
  },
  "language_info": {
   "codemirror_mode": {
    "name": "ipython",
    "version": 3
   },
   "file_extension": ".py",
   "mimetype": "text/x-python",
   "name": "python",
   "nbconvert_exporter": "python",
   "pygments_lexer": "ipython3",
   "version": "3.9.12"
  }
 },
 "nbformat": 4,
 "nbformat_minor": 5
}
