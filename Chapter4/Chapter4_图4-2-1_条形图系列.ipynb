{
 "cells": [
  {
   "cell_type": "code",
   "execution_count": 11,
   "id": "c9bef5d4",
   "metadata": {},
   "outputs": [],
   "source": [
    "import pandas as pd\n",
    "import numpy as np\n",
    "from plotnine import * \n",
    "from pandas.api.types import CategoricalDtype"
   ]
  },
  {
   "cell_type": "markdown",
   "id": "6f24f8ac",
   "metadata": {},
   "source": [
    "#### a. 单数据系列条形图"
   ]
  },
  {
   "cell_type": "code",
   "execution_count": 18,
   "id": "ad7565d2",
   "metadata": {},
   "outputs": [
    {
     "data": {
      "text/plain": [
       "((8, 5),\n",
       "    Country  Pensions  Income  Health   Other services\n",
       " 0   France        14       5        9               3\n",
       " 1   Sweden         8       6        7               8\n",
       " 2    Italy        15       4        7               1\n",
       " 3  Germany        11       5        8               3\n",
       " 4    Spain         9       7        7               2)"
      ]
     },
     "execution_count": 18,
     "metadata": {},
     "output_type": "execute_result"
    }
   ],
   "source": [
    "df = pd.read_csv('StackedBar_Data.csv')\n",
    "df.shape, df.head()"
   ]
  },
  {
   "cell_type": "code",
   "execution_count": 19,
   "id": "df8613b2",
   "metadata": {},
   "outputs": [],
   "source": [
    "df.sort_values(by='Pensions', ascending=True, inplace=True)"
   ]
  },
  {
   "cell_type": "code",
   "execution_count": 20,
   "id": "843547b6",
   "metadata": {},
   "outputs": [],
   "source": [
    "cat_dtype = CategoricalDtype(categories=df['Country'], ordered=True)\n",
    "df['Country'] = df['Country'].astype(cat_dtype)"
   ]
  },
  {
   "cell_type": "code",
   "execution_count": 22,
   "id": "79ba08d4",
   "metadata": {},
   "outputs": [
    {
     "data": {
      "image/png": "[encoded data removed]",
      "text/plain": [
       "<Figure size 325x376.177 with 1 Axes>"
      ]
     },
     "metadata": {},
     "output_type": "display_data"
    },
    {
     "name": "stdout",
     "output_type": "stream",
     "text": [
      "\n"
     ]
    }
   ],
   "source": [
    "p1 = (ggplot(df, aes(x='Country', y='Pensions'))\n",
    "      + geom_bar(width=0.7, stat='identity', color='black', fill='#FC4E07', size=0.25)\n",
    "      + coord_flip()\n",
    "      + theme(axis_title=element_text(color='black', size=18, face='plain'),\n",
    "             axis_text=element_text(color='black', size=15, face='plain'),\n",
    "             legend_title=element_text(color='black', size=15, face='plain'),\n",
    "             aspect_ratio=1.15,\n",
    "             figure_size=(6.5, 6.5),\n",
    "             dpi=50)\n",
    "     )\n",
    "print(p1)"
   ]
  },
  {
   "cell_type": "markdown",
   "id": "be1fa93b",
   "metadata": {},
   "source": [
    "#### b. 多数据系列数据条"
   ]
  },
  {
   "cell_type": "code",
   "execution_count": 31,
   "id": "a7e03328",
   "metadata": {},
   "outputs": [
    {
     "data": {
      "text/html": [
       "<div>\n",
       "<style scoped>\n",
       "    .dataframe tbody tr th:only-of-type {\n",
       "        vertical-align: middle;\n",
       "    }\n",
       "\n",
       "    .dataframe tbody tr th {\n",
       "        vertical-align: top;\n",
       "    }\n",
       "\n",
       "    .dataframe thead th {\n",
       "        text-align: right;\n",
       "    }\n",
       "</style>\n",
       "<table border=\"1\" class=\"dataframe\">\n",
       "  <thead>\n",
       "    <tr style=\"text-align: right;\">\n",
       "      <th></th>\n",
       "      <th>Country</th>\n",
       "      <th>Pensions</th>\n",
       "      <th>Income</th>\n",
       "    </tr>\n",
       "  </thead>\n",
       "  <tbody>\n",
       "    <tr>\n",
       "      <th>0</th>\n",
       "      <td>France</td>\n",
       "      <td>14</td>\n",
       "      <td>5</td>\n",
       "    </tr>\n",
       "    <tr>\n",
       "      <th>1</th>\n",
       "      <td>Sweden</td>\n",
       "      <td>8</td>\n",
       "      <td>6</td>\n",
       "    </tr>\n",
       "    <tr>\n",
       "      <th>2</th>\n",
       "      <td>Italy</td>\n",
       "      <td>15</td>\n",
       "      <td>4</td>\n",
       "    </tr>\n",
       "    <tr>\n",
       "      <th>3</th>\n",
       "      <td>Germany</td>\n",
       "      <td>11</td>\n",
       "      <td>5</td>\n",
       "    </tr>\n",
       "    <tr>\n",
       "      <th>4</th>\n",
       "      <td>Spain</td>\n",
       "      <td>9</td>\n",
       "      <td>7</td>\n",
       "    </tr>\n",
       "    <tr>\n",
       "      <th>5</th>\n",
       "      <td>Britain</td>\n",
       "      <td>6</td>\n",
       "      <td>6</td>\n",
       "    </tr>\n",
       "    <tr>\n",
       "      <th>6</th>\n",
       "      <td>OECD_average</td>\n",
       "      <td>8</td>\n",
       "      <td>5</td>\n",
       "    </tr>\n",
       "    <tr>\n",
       "      <th>7</th>\n",
       "      <td>United States</td>\n",
       "      <td>7</td>\n",
       "      <td>3</td>\n",
       "    </tr>\n",
       "  </tbody>\n",
       "</table>\n",
       "</div>"
      ],
      "text/plain": [
       "         Country  Pensions  Income\n",
       "0         France        14       5\n",
       "1         Sweden         8       6\n",
       "2          Italy        15       4\n",
       "3        Germany        11       5\n",
       "4          Spain         9       7\n",
       "5        Britain         6       6\n",
       "6   OECD_average         8       5\n",
       "7  United States         7       3"
      ]
     },
     "execution_count": 31,
     "metadata": {},
     "output_type": "execute_result"
    }
   ],
   "source": [
    "df1 = pd.read_csv('Stackedbar_Data.csv', usecols=['Country', 'Pensions', 'Income'])\n",
    "df1"
   ]
  },
  {
   "cell_type": "code",
   "execution_count": 32,
   "id": "4677ae98",
   "metadata": {},
   "outputs": [
    {
     "data": {
      "text/html": [
       "<div>\n",
       "<style scoped>\n",
       "    .dataframe tbody tr th:only-of-type {\n",
       "        vertical-align: middle;\n",
       "    }\n",
       "\n",
       "    .dataframe tbody tr th {\n",
       "        vertical-align: top;\n",
       "    }\n",
       "\n",
       "    .dataframe thead th {\n",
       "        text-align: right;\n",
       "    }\n",
       "</style>\n",
       "<table border=\"1\" class=\"dataframe\">\n",
       "  <thead>\n",
       "    <tr style=\"text-align: right;\">\n",
       "      <th></th>\n",
       "      <th>Country</th>\n",
       "      <th>variable</th>\n",
       "      <th>value</th>\n",
       "    </tr>\n",
       "  </thead>\n",
       "  <tbody>\n",
       "    <tr>\n",
       "      <th>0</th>\n",
       "      <td>Britain</td>\n",
       "      <td>Pensions</td>\n",
       "      <td>6</td>\n",
       "    </tr>\n",
       "    <tr>\n",
       "      <th>1</th>\n",
       "      <td>United States</td>\n",
       "      <td>Pensions</td>\n",
       "      <td>7</td>\n",
       "    </tr>\n",
       "    <tr>\n",
       "      <th>2</th>\n",
       "      <td>Sweden</td>\n",
       "      <td>Pensions</td>\n",
       "      <td>8</td>\n",
       "    </tr>\n",
       "    <tr>\n",
       "      <th>3</th>\n",
       "      <td>OECD_average</td>\n",
       "      <td>Pensions</td>\n",
       "      <td>8</td>\n",
       "    </tr>\n",
       "    <tr>\n",
       "      <th>4</th>\n",
       "      <td>Spain</td>\n",
       "      <td>Pensions</td>\n",
       "      <td>9</td>\n",
       "    </tr>\n",
       "  </tbody>\n",
       "</table>\n",
       "</div>"
      ],
      "text/plain": [
       "         Country  variable  value\n",
       "0        Britain  Pensions      6\n",
       "1  United States  Pensions      7\n",
       "2         Sweden  Pensions      8\n",
       "3   OECD_average  Pensions      8\n",
       "4          Spain  Pensions      9"
      ]
     },
     "execution_count": 32,
     "metadata": {},
     "output_type": "execute_result"
    }
   ],
   "source": [
    "df1.sort_values(by='Pensions', ascending=True, inplace=True)\n",
    "df1 = df1.melt(id_vars='Country')\n",
    "df1.head()"
   ]
  },
  {
   "cell_type": "code",
   "execution_count": 33,
   "id": "9b0f212f",
   "metadata": {},
   "outputs": [],
   "source": [
    "cat_dtype = CategoricalDtype(categories=df1['Country'].unique(), ordered=True)\n",
    "df1['Country'] = df1['Country'].astype(cat_dtype)"
   ]
  },
  {
   "cell_type": "code",
   "execution_count": 43,
   "id": "dbbf84fe",
   "metadata": {},
   "outputs": [
    {
     "data": {
      "image/png": "[encoded data removed]",
      "text/plain": [
       "<Figure size 400x462.987 with 1 Axes>"
      ]
     },
     "metadata": {},
     "output_type": "display_data"
    },
    {
     "name": "stdout",
     "output_type": "stream",
     "text": [
      "\n"
     ]
    }
   ],
   "source": [
    "p2 = (ggplot(df1, aes(x='Country', y='value', fill='variable'))\n",
    "      + geom_bar(width=0.7, color='black', size=0.25, stat='identity', position=position_dodge())\n",
    "      + scale_fill_manual(values=[\"#00AFBB\", \"#FC4E07\"])\n",
    "      + coord_flip()\n",
    "      + theme(axis_title=element_text(color='black', size=15, face='plain'),\n",
    "             axis_text=element_text(color='black', size=12, face='plain'),\n",
    "             legend_title=element_text(color='black', size=14, face='plain'),\n",
    "#              legend_text=element_text(color='black', size=16, face='plain'),\n",
    "             legend_position=(0.8, 0.2),\n",
    "             legend_direction='vertical',\n",
    "             legend_background=element_blank(),\n",
    "             aspect_ratio=1.15,\n",
    "             dpi=100,\n",
    "             figure_size=(4, 4))\n",
    "     )\n",
    "print(p2)"
   ]
  }
 ],
 "metadata": {
  "kernelspec": {
   "display_name": "Python 3 (ipykernel)",
   "language": "python",
   "name": "python3"
  },
  "language_info": {
   "codemirror_mode": {
    "name": "ipython",
    "version": 3
   },
   "file_extension": ".py",
   "mimetype": "text/x-python",
   "name": "python",
   "nbconvert_exporter": "python",
   "pygments_lexer": "ipython3",
   "version": "3.9.12"
  }
 },
 "nbformat": 4,
 "nbformat_minor": 5
}
