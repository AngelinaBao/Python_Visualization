{
 "cells": [
  {
   "cell_type": "code",
   "execution_count": 1,
   "id": "0644bcf8",
   "metadata": {},
   "outputs": [],
   "source": [
    "import pandas as pd\n",
    "import numpy as np\n",
    "from plotnine import *"
   ]
  },
  {
   "cell_type": "markdown",
   "id": "2e10200f",
   "metadata": {},
   "source": [
    "#### a. 单数据系列柱形图"
   ]
  },
  {
   "cell_type": "code",
   "execution_count": 2,
   "id": "1af2c339",
   "metadata": {},
   "outputs": [
    {
     "data": {
      "text/html": [
       "<div>\n",
       "<style scoped>\n",
       "    .dataframe tbody tr th:only-of-type {\n",
       "        vertical-align: middle;\n",
       "    }\n",
       "\n",
       "    .dataframe tbody tr th {\n",
       "        vertical-align: top;\n",
       "    }\n",
       "\n",
       "    .dataframe thead th {\n",
       "        text-align: right;\n",
       "    }\n",
       "</style>\n",
       "<table border=\"1\" class=\"dataframe\">\n",
       "  <thead>\n",
       "    <tr style=\"text-align: right;\">\n",
       "      <th></th>\n",
       "      <th>Cut</th>\n",
       "      <th>Price</th>\n",
       "    </tr>\n",
       "  </thead>\n",
       "  <tbody>\n",
       "    <tr>\n",
       "      <th>0</th>\n",
       "      <td>Fair</td>\n",
       "      <td>4300</td>\n",
       "    </tr>\n",
       "    <tr>\n",
       "      <th>1</th>\n",
       "      <td>Good</td>\n",
       "      <td>3800</td>\n",
       "    </tr>\n",
       "    <tr>\n",
       "      <th>2</th>\n",
       "      <td>Very Good</td>\n",
       "      <td>3950</td>\n",
       "    </tr>\n",
       "    <tr>\n",
       "      <th>3</th>\n",
       "      <td>Premium</td>\n",
       "      <td>4700</td>\n",
       "    </tr>\n",
       "    <tr>\n",
       "      <th>4</th>\n",
       "      <td>Ideal</td>\n",
       "      <td>3500</td>\n",
       "    </tr>\n",
       "  </tbody>\n",
       "</table>\n",
       "</div>"
      ],
      "text/plain": [
       "         Cut  Price\n",
       "0       Fair   4300\n",
       "1       Good   3800\n",
       "2  Very Good   3950\n",
       "3    Premium   4700\n",
       "4      Ideal   3500"
      ]
     },
     "execution_count": 2,
     "metadata": {},
     "output_type": "execute_result"
    }
   ],
   "source": [
    "data = pd.DataFrame({'Cut':[\"Fair\",\"Good\",\"Very Good\",\"Premium\",\"Ideal\"],\n",
    "                     'Price':[4300,3800,3950,4700,3500]})\n",
    "data"
   ]
  },
  {
   "cell_type": "code",
   "execution_count": 3,
   "id": "07d63571",
   "metadata": {},
   "outputs": [
    {
     "data": {
      "image/png": "[encoded data removed]",
      "text/plain": [
       "<Figure size 432x500.026 with 1 Axes>"
      ]
     },
     "metadata": {},
     "output_type": "display_data"
    },
    {
     "name": "stdout",
     "output_type": "stream",
     "text": [
      "\n"
     ]
    }
   ],
   "source": [
    "p1 = (ggplot(data, aes(x='Cut', y='Price'))\n",
    "      + geom_bar(stat='identity', width=0.8, color='black', size=0.25, fill='#FC4E07', alpha=1) #stat='identity'不做任何位置调整，该情况在多分类柱形图中不可行，各序列会互相遮盖，但是在多序列散点图、折线图中可行，不会存在遮盖问题\n",
    "      + ylim(0, 6000)\n",
    "      + theme(axis_title=element_text(color='black', size=18, face='plain'),\n",
    "              axis_text_x=element_text(color='black', size=16, face='plain', rotation=30),\n",
    "              axis_text_y=element_text(color='black', size=16, face='plain'),\n",
    "              aspect_ratio=1.15,\n",
    "              dpi=50,\n",
    "              figure_size=(6.5, 6.5))\n",
    "     )\n",
    "print(p1)"
   ]
  },
  {
   "cell_type": "markdown",
   "id": "e87ebd57",
   "metadata": {},
   "source": [
    "#### b. 多数据系列柱形图"
   ]
  },
  {
   "cell_type": "code",
   "execution_count": 7,
   "id": "c2d448ec",
   "metadata": {},
   "outputs": [
    {
     "data": {
      "text/plain": [
       "((3, 3),\n",
       "            Catergory  1996  1997\n",
       " 0  Temporary\\nStream  7.67  5.84\n",
       " 1  Permanent\\nStream  4.02  6.45\n",
       " 2               Lake  3.95  6.76)"
      ]
     },
     "execution_count": 7,
     "metadata": {},
     "output_type": "execute_result"
    }
   ],
   "source": [
    "df1 =pd.read_csv('MultiColumn_Data.csv')\n",
    "df1.shape, df1.head()"
   ]
  },
  {
   "cell_type": "code",
   "execution_count": 8,
   "id": "a2895948",
   "metadata": {},
   "outputs": [
    {
     "data": {
      "text/html": [
       "<div>\n",
       "<style scoped>\n",
       "    .dataframe tbody tr th:only-of-type {\n",
       "        vertical-align: middle;\n",
       "    }\n",
       "\n",
       "    .dataframe tbody tr th {\n",
       "        vertical-align: top;\n",
       "    }\n",
       "\n",
       "    .dataframe thead th {\n",
       "        text-align: right;\n",
       "    }\n",
       "</style>\n",
       "<table border=\"1\" class=\"dataframe\">\n",
       "  <thead>\n",
       "    <tr style=\"text-align: right;\">\n",
       "      <th></th>\n",
       "      <th>Catergory</th>\n",
       "      <th>variable</th>\n",
       "      <th>value</th>\n",
       "    </tr>\n",
       "  </thead>\n",
       "  <tbody>\n",
       "    <tr>\n",
       "      <th>0</th>\n",
       "      <td>Temporary\\nStream</td>\n",
       "      <td>1996</td>\n",
       "      <td>7.67</td>\n",
       "    </tr>\n",
       "    <tr>\n",
       "      <th>1</th>\n",
       "      <td>Permanent\\nStream</td>\n",
       "      <td>1996</td>\n",
       "      <td>4.02</td>\n",
       "    </tr>\n",
       "    <tr>\n",
       "      <th>2</th>\n",
       "      <td>Lake</td>\n",
       "      <td>1996</td>\n",
       "      <td>3.95</td>\n",
       "    </tr>\n",
       "    <tr>\n",
       "      <th>3</th>\n",
       "      <td>Temporary\\nStream</td>\n",
       "      <td>1997</td>\n",
       "      <td>5.84</td>\n",
       "    </tr>\n",
       "    <tr>\n",
       "      <th>4</th>\n",
       "      <td>Permanent\\nStream</td>\n",
       "      <td>1997</td>\n",
       "      <td>6.45</td>\n",
       "    </tr>\n",
       "    <tr>\n",
       "      <th>5</th>\n",
       "      <td>Lake</td>\n",
       "      <td>1997</td>\n",
       "      <td>6.76</td>\n",
       "    </tr>\n",
       "  </tbody>\n",
       "</table>\n",
       "</div>"
      ],
      "text/plain": [
       "           Catergory variable  value\n",
       "0  Temporary\\nStream     1996   7.67\n",
       "1  Permanent\\nStream     1996   4.02\n",
       "2               Lake     1996   3.95\n",
       "3  Temporary\\nStream     1997   5.84\n",
       "4  Permanent\\nStream     1997   6.45\n",
       "5               Lake     1997   6.76"
      ]
     },
     "execution_count": 8,
     "metadata": {},
     "output_type": "execute_result"
    }
   ],
   "source": [
    "df1 = pd.melt(df1, id_vars='Catergory')\n",
    "df1"
   ]
  },
  {
   "cell_type": "code",
   "execution_count": 26,
   "id": "895da450",
   "metadata": {},
   "outputs": [
    {
     "data": {
      "image/png": "[encoded data removed]",
      "text/plain": [
       "<Figure size 325x376.177 with 1 Axes>"
      ]
     },
     "metadata": {},
     "output_type": "display_data"
    },
    {
     "name": "stdout",
     "output_type": "stream",
     "text": [
      "\n"
     ]
    }
   ],
   "source": [
    "p2 = (ggplot(df1, aes(x='Catergory', y='value', fill='variable'))\n",
    "      + geom_bar(stat='identity', color='black', position='dodge', width=0.7, size=0.25)\n",
    "      + scale_fill_manual(values=[\"#1c9099\", \"#e34a33\"])\n",
    "      + ylim(0, 10)\n",
    "      + theme(axis_title=element_text(color='black', size=18, face='plain'),\n",
    "             axis_text=element_text(color='black', size=16, face='plain'),\n",
    "             legend_title=element_text(color='black', size=18, face='plain'),\n",
    "             legend_text=element_text(color='black', size=16, face='plain'),\n",
    "             aspect_ratio=1.15,\n",
    "             dpi=50,\n",
    "             figure_size=(6.5, 6.5),\n",
    "             legend_position=(0.75, 0.8),\n",
    "             legend_direction='vertical',\n",
    "             legend_background=element_blank())\n",
    "     )\n",
    "print(p2)"
   ]
  },
  {
   "cell_type": "markdown",
   "id": "522311e6",
   "metadata": {},
   "source": [
    "#### c.堆积柱形图"
   ]
  },
  {
   "cell_type": "code",
   "execution_count": 20,
   "id": "ba2dcd61",
   "metadata": {},
   "outputs": [
    {
     "data": {
      "text/html": [
       "<div>\n",
       "<style scoped>\n",
       "    .dataframe tbody tr th:only-of-type {\n",
       "        vertical-align: middle;\n",
       "    }\n",
       "\n",
       "    .dataframe tbody tr th {\n",
       "        vertical-align: top;\n",
       "    }\n",
       "\n",
       "    .dataframe thead th {\n",
       "        text-align: right;\n",
       "    }\n",
       "</style>\n",
       "<table border=\"1\" class=\"dataframe\">\n",
       "  <thead>\n",
       "    <tr style=\"text-align: right;\">\n",
       "      <th></th>\n",
       "      <th>Clarity</th>\n",
       "      <th>I1</th>\n",
       "      <th>SI2</th>\n",
       "      <th>SI1</th>\n",
       "      <th>VS2</th>\n",
       "      <th>VS1</th>\n",
       "      <th>S2</th>\n",
       "      <th>S1</th>\n",
       "      <th>IF</th>\n",
       "    </tr>\n",
       "  </thead>\n",
       "  <tbody>\n",
       "    <tr>\n",
       "      <th>0</th>\n",
       "      <td>Fair</td>\n",
       "      <td>150</td>\n",
       "      <td>400</td>\n",
       "      <td>390</td>\n",
       "      <td>300</td>\n",
       "      <td>130</td>\n",
       "      <td>100</td>\n",
       "      <td>100</td>\n",
       "      <td>150</td>\n",
       "    </tr>\n",
       "    <tr>\n",
       "      <th>1</th>\n",
       "      <td>Good</td>\n",
       "      <td>1200</td>\n",
       "      <td>1100</td>\n",
       "      <td>1700</td>\n",
       "      <td>900</td>\n",
       "      <td>790</td>\n",
       "      <td>1300</td>\n",
       "      <td>1200</td>\n",
       "      <td>1100</td>\n",
       "    </tr>\n",
       "    <tr>\n",
       "      <th>2</th>\n",
       "      <td>Very_Good</td>\n",
       "      <td>1300</td>\n",
       "      <td>2300</td>\n",
       "      <td>3300</td>\n",
       "      <td>1900</td>\n",
       "      <td>1800</td>\n",
       "      <td>1900</td>\n",
       "      <td>1700</td>\n",
       "      <td>1300</td>\n",
       "    </tr>\n",
       "    <tr>\n",
       "      <th>3</th>\n",
       "      <td>Premium</td>\n",
       "      <td>2800</td>\n",
       "      <td>2900</td>\n",
       "      <td>3500</td>\n",
       "      <td>2800</td>\n",
       "      <td>3000</td>\n",
       "      <td>1800</td>\n",
       "      <td>1600</td>\n",
       "      <td>1280</td>\n",
       "    </tr>\n",
       "    <tr>\n",
       "      <th>4</th>\n",
       "      <td>Ideal</td>\n",
       "      <td>2000</td>\n",
       "      <td>2700</td>\n",
       "      <td>4200</td>\n",
       "      <td>3300</td>\n",
       "      <td>4200</td>\n",
       "      <td>2700</td>\n",
       "      <td>2100</td>\n",
       "      <td>1300</td>\n",
       "    </tr>\n",
       "  </tbody>\n",
       "</table>\n",
       "</div>"
      ],
      "text/plain": [
       "     Clarity    I1   SI2   SI1   VS2   VS1    S2    S1    IF\n",
       "0       Fair   150   400   390   300   130   100   100   150\n",
       "1       Good  1200  1100  1700   900   790  1300  1200  1100\n",
       "2  Very_Good  1300  2300  3300  1900  1800  1900  1700  1300\n",
       "3    Premium  2800  2900  3500  2800  3000  1800  1600  1280\n",
       "4      Ideal  2000  2700  4200  3300  4200  2700  2100  1300"
      ]
     },
     "execution_count": 20,
     "metadata": {},
     "output_type": "execute_result"
    }
   ],
   "source": [
    "df2 = pd.read_csv('StackedColumn_Data.csv')\n",
    "df2"
   ]
  },
  {
   "cell_type": "code",
   "execution_count": 21,
   "id": "ce5ef041",
   "metadata": {},
   "outputs": [
    {
     "data": {
      "text/html": [
       "<div>\n",
       "<style scoped>\n",
       "    .dataframe tbody tr th:only-of-type {\n",
       "        vertical-align: middle;\n",
       "    }\n",
       "\n",
       "    .dataframe tbody tr th {\n",
       "        vertical-align: top;\n",
       "    }\n",
       "\n",
       "    .dataframe thead th {\n",
       "        text-align: right;\n",
       "    }\n",
       "</style>\n",
       "<table border=\"1\" class=\"dataframe\">\n",
       "  <thead>\n",
       "    <tr style=\"text-align: right;\">\n",
       "      <th></th>\n",
       "      <th>Clarity</th>\n",
       "      <th>variable</th>\n",
       "      <th>value</th>\n",
       "    </tr>\n",
       "  </thead>\n",
       "  <tbody>\n",
       "    <tr>\n",
       "      <th>0</th>\n",
       "      <td>Fair</td>\n",
       "      <td>I1</td>\n",
       "      <td>150</td>\n",
       "    </tr>\n",
       "    <tr>\n",
       "      <th>1</th>\n",
       "      <td>Good</td>\n",
       "      <td>I1</td>\n",
       "      <td>1200</td>\n",
       "    </tr>\n",
       "    <tr>\n",
       "      <th>2</th>\n",
       "      <td>Very_Good</td>\n",
       "      <td>I1</td>\n",
       "      <td>1300</td>\n",
       "    </tr>\n",
       "    <tr>\n",
       "      <th>3</th>\n",
       "      <td>Premium</td>\n",
       "      <td>I1</td>\n",
       "      <td>2800</td>\n",
       "    </tr>\n",
       "    <tr>\n",
       "      <th>4</th>\n",
       "      <td>Ideal</td>\n",
       "      <td>I1</td>\n",
       "      <td>2000</td>\n",
       "    </tr>\n",
       "  </tbody>\n",
       "</table>\n",
       "</div>"
      ],
      "text/plain": [
       "     Clarity variable  value\n",
       "0       Fair       I1    150\n",
       "1       Good       I1   1200\n",
       "2  Very_Good       I1   1300\n",
       "3    Premium       I1   2800\n",
       "4      Ideal       I1   2000"
      ]
     },
     "execution_count": 21,
     "metadata": {},
     "output_type": "execute_result"
    }
   ],
   "source": [
    "df2 = pd.melt(df2, id_vars='Clarity')\n",
    "df2.head()"
   ]
  },
  {
   "cell_type": "code",
   "execution_count": 27,
   "id": "56aaa2a0",
   "metadata": {},
   "outputs": [
    {
     "data": {
      "image/png": "[encoded data removed]",
      "text/plain": [
       "<Figure size 325x376.177 with 1 Axes>"
      ]
     },
     "metadata": {},
     "output_type": "display_data"
    },
    {
     "name": "stdout",
     "output_type": "stream",
     "text": [
      "\n"
     ]
    }
   ],
   "source": [
    "p3 = (ggplot(df2,aes(x='variable',y='value',fill='Clarity'))\n",
    "      +geom_bar(stat=\"identity\", color=\"black\", position='stack',width=0.7,size=0.25)\n",
    "      +scale_fill_brewer(palette=\"YlOrRd\")\n",
    "      +ylim(0, 15000)\n",
    "      +theme(\n",
    "          legend_title=element_text(size=18,face=\"plain\",color=\"black\"),\n",
    "          legend_text=element_text(size=16,face=\"plain\",color=\"black\"),\n",
    "          axis_title=element_text(size=18,face=\"plain\",color=\"black\"),\n",
    "          axis_text = element_text(size=16,face=\"plain\",color=\"black\"),\n",
    "          legend_background=element_blank(),\n",
    "          legend_position=(0.8,0.75),\n",
    "          legend_direction='vertical',\n",
    "          aspect_ratio =1.15,\n",
    "          figure_size = (6.5, 6.5),\n",
    "          dpi = 50\n",
    "      )\n",
    ")\n",
    "print(p3)"
   ]
  },
  {
   "cell_type": "markdown",
   "id": "9a25ab0b",
   "metadata": {},
   "source": [
    "#### d. 百分比堆积柱状图"
   ]
  },
  {
   "cell_type": "code",
   "execution_count": 31,
   "id": "f9f2cff3",
   "metadata": {},
   "outputs": [
    {
     "data": {
      "image/png": "[encoded data removed]",
      "text/plain": [
       "<Figure size 325x376.177 with 1 Axes>"
      ]
     },
     "metadata": {},
     "output_type": "display_data"
    },
    {
     "name": "stdout",
     "output_type": "stream",
     "text": [
      "\n"
     ]
    }
   ],
   "source": [
    "p4 = (ggplot(df2,aes(x='variable',y='value',fill='Clarity'))\n",
    "      +geom_bar(stat=\"identity\", color=\"black\", position='fill',width=0.7,size=0.25)\n",
    "      +scale_fill_brewer(palette=\"GnBu\")\n",
    "      +theme_matplotlib()\n",
    "      +theme(\n",
    "          legend_title=element_text(size=18,face=\"plain\",color=\"black\"),\n",
    "          legend_text=element_text(size=16,face=\"plain\",color=\"black\"),\n",
    "          axis_title=element_text(size=18,face=\"plain\",color=\"black\"),\n",
    "          axis_text = element_text(size=16,face=\"plain\",color=\"black\"),\n",
    "          legend_background=element_blank(),\n",
    "          legend_position='right',\n",
    "          legend_direction='vertical',\n",
    "          aspect_ratio =1.15,\n",
    "          figure_size = (6.5, 6.5),\n",
    "          dpi = 50\n",
    "      )\n",
    ")\n",
    "print(p4)"
   ]
  }
 ],
 "metadata": {
  "kernelspec": {
   "display_name": "Python 3 (ipykernel)",
   "language": "python",
   "name": "python3"
  },
  "language_info": {
   "codemirror_mode": {
    "name": "ipython",
    "version": 3
   },
   "file_extension": ".py",
   "mimetype": "text/x-python",
   "name": "python",
   "nbconvert_exporter": "python",
   "pygments_lexer": "ipython3",
   "version": "3.9.12"
  }
 },
 "nbformat": 4,
 "nbformat_minor": 5
}
