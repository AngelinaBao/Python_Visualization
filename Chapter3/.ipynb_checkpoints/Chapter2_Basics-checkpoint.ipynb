{
 "cells": [
  {
   "cell_type": "code",
   "execution_count": 1,
   "id": "26c27682",
   "metadata": {},
   "outputs": [],
   "source": [
    "import pandas as pd\n",
    "import numpy as np"
   ]
  },
  {
   "cell_type": "markdown",
   "id": "d631eee3",
   "metadata": {},
   "source": [
    "### 网格分布型数据的创建"
   ]
  },
  {
   "cell_type": "code",
   "execution_count": 2,
   "id": "de81a63f",
   "metadata": {},
   "outputs": [
    {
     "data": {
      "text/plain": [
       "(9, 2)"
      ]
     },
     "execution_count": 2,
     "metadata": {},
     "output_type": "execute_result"
    }
   ],
   "source": [
    "a = ['A', 'B', 'C']\n",
    "b = [3, 5, 7]\n",
    "X, Y = np.meshgrid(a, b)\n",
    "c = pd.DataFrame({'x': X.flatten(), 'y': Y.flatten()})\n",
    "c.shape"
   ]
  },
  {
   "cell_type": "code",
   "execution_count": 3,
   "id": "10419ec9",
   "metadata": {},
   "outputs": [
    {
     "data": {
      "text/html": [
       "<div>\n",
       "<style scoped>\n",
       "    .dataframe tbody tr th:only-of-type {\n",
       "        vertical-align: middle;\n",
       "    }\n",
       "\n",
       "    .dataframe tbody tr th {\n",
       "        vertical-align: top;\n",
       "    }\n",
       "\n",
       "    .dataframe thead th {\n",
       "        text-align: right;\n",
       "    }\n",
       "</style>\n",
       "<table border=\"1\" class=\"dataframe\">\n",
       "  <thead>\n",
       "    <tr style=\"text-align: right;\">\n",
       "      <th></th>\n",
       "      <th>x</th>\n",
       "      <th>y</th>\n",
       "    </tr>\n",
       "  </thead>\n",
       "  <tbody>\n",
       "    <tr>\n",
       "      <th>0</th>\n",
       "      <td>A</td>\n",
       "      <td>3</td>\n",
       "    </tr>\n",
       "    <tr>\n",
       "      <th>1</th>\n",
       "      <td>B</td>\n",
       "      <td>3</td>\n",
       "    </tr>\n",
       "    <tr>\n",
       "      <th>2</th>\n",
       "      <td>C</td>\n",
       "      <td>3</td>\n",
       "    </tr>\n",
       "    <tr>\n",
       "      <th>3</th>\n",
       "      <td>A</td>\n",
       "      <td>5</td>\n",
       "    </tr>\n",
       "    <tr>\n",
       "      <th>4</th>\n",
       "      <td>B</td>\n",
       "      <td>5</td>\n",
       "    </tr>\n",
       "    <tr>\n",
       "      <th>5</th>\n",
       "      <td>C</td>\n",
       "      <td>5</td>\n",
       "    </tr>\n",
       "    <tr>\n",
       "      <th>6</th>\n",
       "      <td>A</td>\n",
       "      <td>7</td>\n",
       "    </tr>\n",
       "    <tr>\n",
       "      <th>7</th>\n",
       "      <td>B</td>\n",
       "      <td>7</td>\n",
       "    </tr>\n",
       "    <tr>\n",
       "      <th>8</th>\n",
       "      <td>C</td>\n",
       "      <td>7</td>\n",
       "    </tr>\n",
       "  </tbody>\n",
       "</table>\n",
       "</div>"
      ],
      "text/plain": [
       "   x  y\n",
       "0  A  3\n",
       "1  B  3\n",
       "2  C  3\n",
       "3  A  5\n",
       "4  B  5\n",
       "5  C  5\n",
       "6  A  7\n",
       "7  B  7\n",
       "8  C  7"
      ]
     },
     "execution_count": 3,
     "metadata": {},
     "output_type": "execute_result"
    }
   ],
   "source": [
    "c"
   ]
  },
  {
   "cell_type": "markdown",
   "id": "1b4f9dbe",
   "metadata": {},
   "source": [
    "### 数据类型：Categorical"
   ]
  },
  {
   "cell_type": "code",
   "execution_count": 4,
   "id": "75768aec",
   "metadata": {},
   "outputs": [
    {
     "data": {
      "text/plain": [
       "['Fair', 'Good', 'Ideal', 'Very Good', 'Premium']\n",
       "Categories (5, object): ['Fair', 'Good', 'Ideal', 'Premium', 'Very Good']"
      ]
     },
     "execution_count": 4,
     "metadata": {},
     "output_type": "execute_result"
    }
   ],
   "source": [
    "cut = ['Fair', 'Good', 'Ideal', 'Very Good', 'Premium']\n",
    "cut_factor1 = pd.Categorical(cut)\n",
    "cut_factor1"
   ]
  },
  {
   "cell_type": "code",
   "execution_count": 6,
   "id": "e1378c2f",
   "metadata": {},
   "outputs": [
    {
     "data": {
      "text/plain": [
       "['Fair', 'Good', 'Ideal', 'Very Good', 'Premium']\n",
       "Categories (5, object): ['Fair' < 'Good' < 'Very Good' < 'Premium' < 'Ideal']"
      ]
     },
     "execution_count": 6,
     "metadata": {},
     "output_type": "execute_result"
    }
   ],
   "source": [
    "cut_factor2 = pd.Categorical(cut, \n",
    "                             categories=['Fair', 'Good',  'Very Good', 'Premium', 'Ideal'], \n",
    "                             ordered=True)\n",
    "cut_factor2"
   ]
  },
  {
   "cell_type": "code",
   "execution_count": 10,
   "id": "4184f3a6",
   "metadata": {},
   "outputs": [
    {
     "data": {
      "text/plain": [
       "0         Fair\n",
       "1         Good\n",
       "2        Ideal\n",
       "3    Very Good\n",
       "4      Premium\n",
       "dtype: category\n",
       "Categories (5, object): ['Fair' < 'Good' < 'Very Good' < 'Premium' < 'Ideal']"
      ]
     },
     "execution_count": 10,
     "metadata": {},
     "output_type": "execute_result"
    }
   ],
   "source": [
    "# 重新指定类别排序\n",
    "from pandas.api.types import CategoricalDtype\n",
    "Cut = pd.Series(cut)\n",
    "cat_dtype = CategoricalDtype(categories=['Fair', 'Good',  'Very Good', 'Premium', 'Ideal'], ordered=True)\n",
    "Cut.astype(cat_dtype)"
   ]
  },
  {
   "cell_type": "code",
   "execution_count": null,
   "id": "a0918ff6",
   "metadata": {},
   "outputs": [],
   "source": []
  }
 ],
 "metadata": {
  "kernelspec": {
   "display_name": "Python 3 (ipykernel)",
   "language": "python",
   "name": "python3"
  },
  "language_info": {
   "codemirror_mode": {
    "name": "ipython",
    "version": 3
   },
   "file_extension": ".py",
   "mimetype": "text/x-python",
   "name": "python",
   "nbconvert_exporter": "python",
   "pygments_lexer": "ipython3",
   "version": "3.9.12"
  }
 },
 "nbformat": 4,
 "nbformat_minor": 5
}
