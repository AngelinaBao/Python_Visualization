{
 "cells": [
  {
   "cell_type": "markdown",
   "id": "c4dc32fa",
   "metadata": {},
   "source": [
    "**scale_fill_brewer(type='seq', palette=1, direction=1, **kwargs)**\n",
    "\n",
    "type : str in ``['seq', 'div', 'qual']`` <br>\n",
    ">Type of data. Sequential, diverging or qualitative\n",
    "    \n",
    "* type: diverging<br>\n",
    ">palettes: BrBG, PiYG, PRGn, PuOr, RdBu, RdGy, RdYlBu, RdYlGn, Spectral\n",
    "\n",
    "* type: qualitative<br>\n",
    ">Accent, Dark2, Paired, Pastel1, Pastel2, Set1, Set2, Set3\n",
    "\n",
    "* type: sequential<br>\n",
    ">Blues, BuGn, BuPu, GnBu, Greens, Greys, Oranges, OrRd, PuBu, PuBuGn, PuRd, Purples, RdPu, Reds, YlGn, YlGnBu, YlOrBr, YlOrRd\n",
    "\n",
    "direction: int in ``[-1, 1]``<br>\n",
    ">Sets the order of colors in the scale. If 1, the default, colors are as output by mizani.palettes.brewer_pal(). If -1, the order of colors is reversed."
   ]
  },
  {
   "cell_type": "markdown",
   "id": "b33132bb",
   "metadata": {},
   "source": [
    "**theme(aspect_ratio=None)**<br>\n",
    "* aspect_ratio: panel_height / panel_width"
   ]
  },
  {
   "cell_type": "markdown",
   "id": "397cfa18",
   "metadata": {},
   "source": [
    "**colormap**<br>\n",
    "https://matplotlib.org/2.0.2/users/colormaps.html"
   ]
  },
  {
   "cell_type": "markdown",
   "id": "251822b4",
   "metadata": {},
   "source": [
    "**geom_smooth()**<br>\n",
    "[ggplot官方文档](https://ggplot2.tidyverse.org/reference/geom_smooth.html?q=geom_smooth#null)\n",
    "* method\n",
    ">Smoothing method (function) to use, accepts either NULL or a character vector, e.g. ['lm', 'ols', 'wls', 'rlm', 'glm', 'gls', 'lowess', 'loess', 'mavg', 'gpr']\n",
    "* span\n",
    ">Controls the amount of smoothing for the default loess smoother. Smaller numbers produce wigglier lines, larger numbers produce smoother lines. Only used with loess, i.e. when method = \"loess\", or when method = NULL (the default) and there are fewer than 1,000 observations.\n",
    "* se\n",
    ">Display confidence interval around smooth? (TRUE by default, see level to control.)    "
   ]
  },
  {
   "cell_type": "markdown",
   "id": "8b44f967",
   "metadata": {},
   "source": [
    "#### scale_y_continuous(**kwargs)\n",
    "**parameters**\n",
    "----------\n",
    "* breaks : array_like or callable, optional\n",
    "    Major break points. Alternatively, a callable that\n",
    "    takes a tuple of limits and returns a list of breaks.\n",
    "    Default is to automatically calculate the breaks.\n",
    "* expand : tuple, optional\n",
    "    Multiplicative and additive expansion constants\n",
    "    that determine how the scale is expanded. If\n",
    "    specified must be of length 2 or 4. Specifically the\n",
    "    values are in this order::\n",
    "\n",
    "        (mul, add)\n",
    "        (mul_low, add_low, mul_high, add_high)\n",
    "\n",
    "    For example,\n",
    "\n",
    "        - ``(0, 0)`` - Do not expand.\n",
    "        - ``(0, 1)`` - Expand lower and upper limits by 1 unit.\n",
    "        - ``(1, 0)`` - Expand lower and upper limits by 100%.\n",
    "        - ``(0, 0, 0, 0)`` - Do not expand, as ``(0, 0)``.\n",
    "        - ``(0, 0, 0, 1)`` - Expand upper limit by 1 unit.\n",
    "        - ``(0, 1, 0.1, 0)`` - Expand lower limit by 1 unit and\n",
    "          upper limit by 10%.\n",
    "        - ``(0, 0, 0.1, 2)`` - Expand upper limit by 10% plus\n",
    "          2 units.\n",
    "\n",
    "    If not specified, suitable defaults are chosen.\n",
    "* name : str, optional\n",
    "    Name used as the label of the scale. This is what\n",
    "    shows up as the axis label or legend title. Suitable\n",
    "    defaults are chosen depending on the type of scale.\n",
    "* labels : list or callable, optional\n",
    "    List of :class:`str`. Labels at the `breaks`.\n",
    "    Alternatively, a callable that takes an array_like of\n",
    "    break points as input and returns a list of strings.\n",
    "* limits : array_like, optional\n",
    "    Limits of the scale. Most commonly, these are the\n",
    "    min & max values for the scales. For scales that\n",
    "    deal with categoricals, these may be a subset or\n",
    "    superset of the categories.\n",
    "* na_value : scalar\n",
    "    What value to assign to missing values. Default\n",
    "    is to assign ``np.nan``.\n",
    "* palette : callable, optional\n",
    "    Function to map data points onto the scale. Most\n",
    "    scales define their own palettes.\n",
    "* aesthetics : list, optional\n",
    "    list of :class:`str`. Aesthetics covered by the\n",
    "    scale. These are defined by each scale and the\n",
    "    user should probably not change them. Have fun.\n",
    "* trans : str | function\n",
    "    Name of a trans function or a trans function.\n",
    "    See :mod:`mizani.transforms` for possible options."
   ]
  }
 ],
 "metadata": {
  "kernelspec": {
   "display_name": "Python 3 (ipykernel)",
   "language": "python",
   "name": "python3"
  },
  "language_info": {
   "codemirror_mode": {
    "name": "ipython",
    "version": 3
   },
   "file_extension": ".py",
   "mimetype": "text/x-python",
   "name": "python",
   "nbconvert_exporter": "python",
   "pygments_lexer": "ipython3",
   "version": "3.9.12"
  }
 },
 "nbformat": 4,
 "nbformat_minor": 5
}
