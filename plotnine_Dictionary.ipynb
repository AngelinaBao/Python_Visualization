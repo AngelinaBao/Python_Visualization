{
 "cells": [
  {
   "cell_type": "markdown",
   "id": "c4dc32fa",
   "metadata": {},
   "source": [
    "**scale_fill_brewer(type='seq', palette=1, direction=1, **kwargs)**\n",
    "\n",
    "type : str in ``['seq', 'div', 'qual']`` <br>\n",
    ">Type of data. Sequential, diverging or qualitative\n",
    "    \n",
    "* type: diverging<br>\n",
    ">palettes: BrBG, PiYG, PRGn, PuOr, RdBu, RdGy, RdYlBu, RdYlGn, Spectral\n",
    "\n",
    "* type: qualitative<br>\n",
    ">Accent, Dark2, Paired, Pastel1, Pastel2, Set1, Set2, Set3\n",
    "\n",
    "* type: sequential<br>\n",
    ">Blues, BuGn, BuPu, GnBu, Greens, Greys, Oranges, OrRd, PuBu, PuBuGn, PuRd, Purples, RdPu, Reds, YlGn, YlGnBu, YlOrBr, YlOrRd\n",
    "\n",
    "direction: int in ``[-1, 1]``<br>\n",
    ">Sets the order of colors in the scale. If 1, the default, colors are as output by mizani.palettes.brewer_pal(). If -1, the order of colors is reversed."
   ]
  },
  {
   "cell_type": "markdown",
   "id": "b33132bb",
   "metadata": {},
   "source": [
    "**theme(aspect_ratio=None)**<br>\n",
    "* aspect_ratio: panel_height / panel_width"
   ]
  },
  {
   "cell_type": "markdown",
   "id": "397cfa18",
   "metadata": {},
   "source": [
    "**colormap**<br>\n",
    "https://matplotlib.org/2.0.2/users/colormaps.html"
   ]
  },
  {
   "cell_type": "markdown",
   "id": "251822b4",
   "metadata": {},
   "source": [
    "**geom_smooth()**<br>\n",
    "[ggplot官方文档](https://ggplot2.tidyverse.org/reference/geom_smooth.html?q=geom_smooth#null)\n",
    "* method\n",
    ">Smoothing method (function) to use, accepts either NULL or a character vector, e.g. ['lm', 'ols', 'wls', 'rlm', 'glm', 'gls', 'lowess', 'loess', 'mavg', 'gpr']\n",
    "* span\n",
    ">Controls the amount of smoothing for the default loess smoother. Smaller numbers produce wigglier lines, larger numbers produce smoother lines. Only used with loess, i.e. when method = \"loess\", or when method = NULL (the default) and there are fewer than 1,000 observations.\n",
    "* se\n",
    ">Display confidence interval around smooth? (TRUE by default, see level to control.)    "
   ]
  }
 ],
 "metadata": {
  "kernelspec": {
   "display_name": "Python 3 (ipykernel)",
   "language": "python",
   "name": "python3"
  },
  "language_info": {
   "codemirror_mode": {
    "name": "ipython",
    "version": 3
   },
   "file_extension": ".py",
   "mimetype": "text/x-python",
   "name": "python",
   "nbconvert_exporter": "python",
   "pygments_lexer": "ipython3",
   "version": "3.9.12"
  }
 },
 "nbformat": 4,
 "nbformat_minor": 5
}
