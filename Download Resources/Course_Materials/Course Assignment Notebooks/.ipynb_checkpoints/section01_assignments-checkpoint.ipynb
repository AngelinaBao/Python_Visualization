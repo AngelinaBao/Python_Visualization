{
 "cells": [
  {
   "cell_type": "markdown",
   "id": "e00a9b36",
   "metadata": {},
   "source": [
    "## Assignment 1: Simple Dash App\n",
    "\n",
    "Create a dash application with the following front-end components\n",
    "\n",
    "* A text title \"Select a State to Analyze:\"\n",
    "* A Dropdown Menu that Contains the Options 'California', 'Oregon', and 'Washington'\n",
    "* Text \"State Selected: X\" where X is the state selected in the Dropdown Menu\n",
    "\n",
    "You will need to build a callback function that takes the selected state and returns output text based on the value selected in the dropdown menu. I suggest using JupyterDash to start, but you are welcome and encouraged to play with the Dash function once you have developed your application succesfully. "
   ]
  },
  {
   "cell_type": "code",
   "execution_count": null,
   "id": "ae13057c",
   "metadata": {},
   "outputs": [],
   "source": [
    "from dash import html, dcc, Dash\n",
    "# from jupyter_dash import JupyterDash\n",
    "from dash.dependencies import Output, Input\n",
    "from dash.exceptions import PreventUpdate\n",
    "\n",
    "app = Dash(__name__)\n",
    "\n",
    "app.layout = html.Div([\n",
    "    'Select a State to Analyze',\n",
    "    dcc.Dropdown(\n",
    "        options = ['California', 'Oregon', 'Washington'],\n",
    "        id = 'country-input'\n",
    "    ),\n",
    "    html.Div(id = 'country-output')\n",
    "    \n",
    "])\n",
    "\n",
    "@app.callback(\n",
    "    Output('country-output', 'children'),\n",
    "    Input('country-input', 'value')\n",
    ")\n",
    "def State_choose(state):\n",
    "    if not state:\n",
    "        raise PreventUpdate\n",
    "    return f\"State Selected: {state}\"\n",
    "\n",
    "if __name__ == '__main__':\n",
    "    app.run_server(port=8051)"
   ]
  },
  {
   "cell_type": "markdown",
   "id": "0b376e4e",
   "metadata": {},
   "source": [
    "## Assignment 2: Embedding A Chart\n",
    "\n",
    "Take the shell application we created in assignment 1 and embed the prototype plotly visual below. If the user selects 'WASHINGTON', a line chart for Washington expenditure should be plotted, and so on for each of the three states. Remove the dynamic text ouput."
   ]
  },
  {
   "cell_type": "code",
   "execution_count": null,
   "id": "5ada2298",
   "metadata": {},
   "outputs": [],
   "source": [
    "import pandas as pd\n",
    "import plotly.express as px\n",
    "\n",
    "education = pd.read_csv(\"../Data/states_all.csv\", usecols=[\"STATE\", \"YEAR\", \"TOTAL_EXPENDITURE\"])\n",
    "\n",
    "df = education.query(\"STATE == 'WASHINGTON' & YEAR > 1992\")\n",
    "\n",
    "px.line(df, x=\"YEAR\", y=\"TOTAL_EXPENDITURE\", title=\"Expenditure in Washington\")"
   ]
  },
  {
   "cell_type": "code",
   "execution_count": null,
   "id": "688f7242",
   "metadata": {},
   "outputs": [],
   "source": []
  },
  {
   "cell_type": "code",
   "execution_count": 11,
   "id": "45147b07",
   "metadata": {},
   "outputs": [
    {
     "name": "stdout",
     "output_type": "stream",
     "text": [
      "Dash is running on http://127.0.0.1:8050/\n",
      "\n"
     ]
    },
    {
     "data": {
      "text/html": [
       "\n",
       "        <iframe\n",
       "            width=\"70%\"\n",
       "            height=\"650\"\n",
       "            src=\"http://127.0.0.1:8050/\"\n",
       "            frameborder=\"0\"\n",
       "            allowfullscreen\n",
       "            \n",
       "        ></iframe>\n",
       "        "
      ],
      "text/plain": [
       "<IPython.lib.display.IFrame at 0x1b008bb3e50>"
      ]
     },
     "metadata": {},
     "output_type": "display_data"
    }
   ],
   "source": [
    "from dash import dcc, html, Dash\n",
    "from jupyter_dash import JupyterDash\n",
    "from dash.dependencies import Output, Input\n",
    "from dash.exceptions import PreventUpdate\n",
    "import plotly.express as px\n",
    "import pandas as pd\n",
    "\n",
    "education = pd.read_csv(\"../Data/states_all.csv\", usecols=[\"STATE\", \"YEAR\", \"TOTAL_EXPENDITURE\"])\n",
    "\n",
    "app = JupyterDash(__name__)\n",
    "\n",
    "app.layout = html.Div([\n",
    "    'Select a State to Analyze:',\n",
    "    dcc.Dropdown(\n",
    "        options = ['California', 'Oregon', 'Washington'],\n",
    "        id = 'state_dropdown'),\n",
    "    dcc.Graph(id = 'graph')\n",
    "])\n",
    "\n",
    "@app.callback(\n",
    "    Output('graph', 'figure'),\n",
    "    Input('state_dropdown', 'value')\n",
    ")\n",
    "def update_state_div(state):\n",
    "    if not state:\n",
    "        raise PreventUpdate\n",
    "        \n",
    "    df = education.query(f\"STATE == '{state.upper()}' & YEAR > 1992\")\n",
    "    \n",
    "    fig = px.line(\n",
    "        df,\n",
    "        x = 'YEAR',\n",
    "        y = 'TOTAL_EXPENDITURE',\n",
    "        title = f\"Expenditure in {state}\"\n",
    "    )\n",
    "    return fig\n",
    "\n",
    "if __name__ == '__main__':\n",
    "    app.run_server(mode='inline', debug=True, width = '70%')"
   ]
  }
 ],
 "metadata": {
  "kernelspec": {
   "display_name": "Python 3 (ipykernel)",
   "language": "python",
   "name": "python3"
  },
  "language_info": {
   "codemirror_mode": {
    "name": "ipython",
    "version": 3
   },
   "file_extension": ".py",
   "mimetype": "text/x-python",
   "name": "python",
   "nbconvert_exporter": "python",
   "pygments_lexer": "ipython3",
   "version": "3.9.12"
  }
 },
 "nbformat": 4,
 "nbformat_minor": 5
}
